{
 "cells": [
  {
   "cell_type": "code",
   "execution_count": 1,
   "metadata": {},
   "outputs": [
    {
     "name": "stderr",
     "output_type": "stream",
     "text": [
      "C:\\Users\\LEN\\Anaconda3\\lib\\site-packages\\h5py\\__init__.py:34: FutureWarning: Conversion of the second argument of issubdtype from `float` to `np.floating` is deprecated. In future, it will be treated as `np.float64 == np.dtype(float).type`.\n",
      "  from ._conv import register_converters as _register_converters\n"
     ]
    }
   ],
   "source": [
    "import numpy as np\n",
    "import pandas as pd\n",
    "import matplotlib.pyplot as plt\n",
    "import h5py"
   ]
  },
  {
   "cell_type": "code",
   "execution_count": 2,
   "metadata": {
    "collapsed": true
   },
   "outputs": [],
   "source": [
    "# Read data, which has a size of N * 784 and N * 1\n",
    "MNIST = h5py.File(\"..\\MNISTdata.hdf5\",'r')\n",
    "x_train = np.float32(MNIST['x_train'][:])\n",
    "x_test = np.float32(MNIST['x_test'][:])\n",
    "y_train = np.int32(MNIST['y_train'][:,0])\n",
    "y_test = np.int32(MNIST['y_test'][:,0])"
   ]
  },
  {
   "cell_type": "code",
   "execution_count": 17,
   "metadata": {
    "collapsed": true
   },
   "outputs": [],
   "source": [
    "# Build activate functions\n",
    "relu = lambda x: x*(x>0)\n",
    "\n",
    "# Input a m * n matrix, output a m * n matrix whose rows are transformed and normalized\n",
    "def softmax(X):\n",
    "    Xexp = np.exp(X)\n",
    "    return Xexp / np.sum(Xexp,axis=1,keepdims=True)"
   ]
  },
  {
   "cell_type": "code",
   "execution_count": 18,
   "metadata": {
    "collapsed": true
   },
   "outputs": [],
   "source": [
    "# Initialize the parameters\n",
    "def param_init(lx,ly):\n",
    "    W1 = np.random.randn(lx,ly) / np.sqrt(lx)\n",
    "    b1 = np.zeros(ly)\n",
    "    \n",
    "    return W1,b1"
   ]
  },
  {
   "cell_type": "code",
   "execution_count": 19,
   "metadata": {
    "collapsed": true
   },
   "outputs": [],
   "source": [
    "# Build the forward step\n",
    "def forward_prop(X,W1,b1):\n",
    "    # Input to Hidden layer\n",
    "    S1 = X.dot(W1) + b1\n",
    "    A1 = softmax(S1)\n",
    "    \n",
    "    return A1"
   ]
  },
  {
   "cell_type": "code",
   "execution_count": 20,
   "metadata": {
    "collapsed": true
   },
   "outputs": [],
   "source": [
    "# Build the back-propagation step\n",
    "def back_prop(W1,b1,A1,X,Y,alpha):\n",
    "    b1Del = Y - A1\n",
    "    W1Del = X.T.dot(b1Del)\n",
    "    W1n = W1 + alpha * W1Del\n",
    "    b1n = b1 + alpha * b1Del\n",
    "    \n",
    "    return W1n,b1n"
   ]
  },
  {
   "cell_type": "code",
   "execution_count": 21,
   "metadata": {},
   "outputs": [
    {
     "name": "stdout",
     "output_type": "stream",
     "text": [
      "0.9003\n",
      "0.9163\n",
      "0.92055\n",
      "0.9227166666666666\n",
      "0.92175\n",
      "0.9257166666666666\n",
      "0.9299\n",
      "0.93075\n",
      "0.9324833333333333\n",
      "0.9312833333333334\n"
     ]
    }
   ],
   "source": [
    "X = x_train\n",
    "Y = y_train\n",
    "OrigAlpha = 0.01\n",
    "\n",
    "Y_oh = np.array(pd.get_dummies(np.squeeze(Y)))\n",
    "    \n",
    "# Indicate number of units per layer\n",
    "N = X.shape[0] # Number of samples\n",
    "lx = X.shape[1] # Number of features\n",
    "ly = Y_oh.shape[1] # Number of classes\n",
    "    \n",
    "# Initialized the parameters\n",
    "W1,b1 = param_init(lx,ly)\n",
    "\n",
    "num_epochs = 10\n",
    "for epoch in range(num_epochs):\n",
    "    if epoch <= 5:\n",
    "        alpha = OrigAlpha\n",
    "    elif epoch <= 10: \n",
    "        alpha = OrigAlpha * 1e-1\n",
    "    elif epoch <= 15:\n",
    "        alpha = OrigAlpha * 1e-2\n",
    "    else:\n",
    "        alpha = OrigAlpha * 1e-3\n",
    "    total_cor = 0\n",
    "    for n in range(N):\n",
    "        r = np.random.randint(N)\n",
    "        x_samp = X[[r]]\n",
    "        y_samp = Y_oh[[r]]\n",
    "        \n",
    "        A1 = forward_prop(x_samp,W1,b1)\n",
    "        pred = np.argmax(A1)\n",
    "        if pred==Y[r]:\n",
    "            total_cor += 1\n",
    "        W1,b1 = back_prop(W1,b1,A1,x_samp,y_samp,alpha)\n",
    "    print(total_cor / np.float(N))"
   ]
  }
 ],
 "metadata": {
  "kernelspec": {
   "display_name": "Python 3",
   "language": "python",
   "name": "python3"
  },
  "language_info": {
   "codemirror_mode": {
    "name": "ipython",
    "version": 3
   },
   "file_extension": ".py",
   "mimetype": "text/x-python",
   "name": "python",
   "nbconvert_exporter": "python",
   "pygments_lexer": "ipython3",
   "version": "3.6.3"
  }
 },
 "nbformat": 4,
 "nbformat_minor": 2
}
