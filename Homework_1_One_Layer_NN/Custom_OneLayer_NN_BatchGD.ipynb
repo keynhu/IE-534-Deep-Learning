{
 "cells": [
  {
   "cell_type": "code",
   "execution_count": 1,
   "metadata": {},
   "outputs": [
    {
     "name": "stderr",
     "output_type": "stream",
     "text": [
      "C:\\Users\\LEN\\Anaconda3\\lib\\site-packages\\h5py\\__init__.py:34: FutureWarning: Conversion of the second argument of issubdtype from `float` to `np.floating` is deprecated. In future, it will be treated as `np.float64 == np.dtype(float).type`.\n",
      "  from ._conv import register_converters as _register_converters\n"
     ]
    }
   ],
   "source": [
    "# This python file builds a one-layer neural network from scratch to deal with MNIST dataset\n",
    "import numpy as np\n",
    "import pandas as pd\n",
    "import matplotlib.pyplot as plt\n",
    "import h5py"
   ]
  },
  {
   "cell_type": "code",
   "execution_count": 2,
   "metadata": {
    "collapsed": true
   },
   "outputs": [],
   "source": [
    "# Read data, which has a size of N * 784 and N * 1\n",
    "MNIST = h5py.File(\"..\\MNISTdata.hdf5\",'r')\n",
    "x_train = np.float32(MNIST['x_train'][:])\n",
    "x_test = np.float32(MNIST['x_test'][:])\n",
    "y_train = np.int32(MNIST['y_train'][:,0])\n",
    "y_test = np.int32(MNIST['y_test'][:,0])"
   ]
  },
  {
   "cell_type": "code",
   "execution_count": 3,
   "metadata": {},
   "outputs": [
    {
     "name": "stdout",
     "output_type": "stream",
     "text": [
      "/x_test\n",
      "/x_train\n",
      "/y_test\n",
      "/y_train\n"
     ]
    }
   ],
   "source": [
    "# To check the keys and values in MNISTdata.hdf5\n",
    "for key in MNIST.keys():\n",
    "    print(MNIST[key].name)\n",
    "MNIST.close()"
   ]
  },
  {
   "cell_type": "code",
   "execution_count": 3,
   "metadata": {
    "collapsed": true
   },
   "outputs": [],
   "source": [
    "# Build activate functions\n",
    "relu = lambda x: x*(x>0)\n",
    "\n",
    "# Input a m * n matrix, output a m * n matrix whose rows are transformed and normalized\n",
    "def softmax(X):\n",
    "    Xexp = np.exp(X)\n",
    "    return Xexp / np.sum(Xexp,axis=1,keepdims=True)"
   ]
  },
  {
   "cell_type": "code",
   "execution_count": 12,
   "metadata": {
    "collapsed": true
   },
   "outputs": [],
   "source": [
    "# Build normalize function\n",
    "def layer_norm(A):\n",
    "    ma = np.max(A)\n",
    "    mi = np.min(A)\n",
    "    rag = ma - mi\n",
    "    return (A - mi) / rag, 1 / rag"
   ]
  },
  {
   "cell_type": "code",
   "execution_count": 26,
   "metadata": {
    "collapsed": true
   },
   "outputs": [],
   "source": [
    "# Initialize the parameters\n",
    "def param_init(lx,lh,ly):\n",
    "    W1 = np.random.randn(lx,lh) / np.sqrt(lx)\n",
    "    W2 = np.random.randn(lh,ly) / np.sqrt(lx) # Distribution has higher variance; If not dividing, may take more epochs for global min\n",
    "    b1 = np.zeros(lh)\n",
    "    b2 = np.zeros(ly)\n",
    "    \n",
    "    return W1,b1,W2,b2"
   ]
  },
  {
   "cell_type": "code",
   "execution_count": 27,
   "metadata": {
    "collapsed": true
   },
   "outputs": [],
   "source": [
    "# Build the forward step\n",
    "# Model: S1 = XW1 + b1 → A1 = relu(S1) → S2 = A1W2 + b2 → A2 = softmax(S2)\n",
    "def forward_prop(X,W1,b1,W2,b2):\n",
    "    # Input to Hidden layer\n",
    "    S1 = np.dot(X,W1) + b1 # Shape: (n * lx).dot(lx * lh) = (n * lh)\n",
    "    A1 = relu(S1) # Shape: (n * lh)\n",
    "    #A1norm, norm = layer_norm(A1)\n",
    "    \n",
    "    # Hidden layer to Output\n",
    "    #S2 = A1norm.dot(W2) + b2 # Shape: (n * lh).dot(lh * ly) = (n * ly)\n",
    "    S2 = np.dot(A1,W2) + b2\n",
    "    A2 = softmax(S2) # Shape: (n * ly)\n",
    "    \n",
    "    return S1, A1, A2\n",
    "    #return A1norm, norm, A2"
   ]
  },
  {
   "cell_type": "code",
   "execution_count": 47,
   "metadata": {
    "collapsed": true
   },
   "outputs": [],
   "source": [
    "# Build the back-propagation step\n",
    "#def back_prop(W1,b1,W2,b2,A1norm,A2,X,Y,norm,alpha):\n",
    "def back_prop(W1,b1,W2,b2,S1,A1,A2,X,Y,alpha):\n",
    "    batch_size = X.shape[0]\n",
    "    A2Del = Y - A2\n",
    "    b2Del = np.mean(A2Del, axis=0, keepdims=True) # Length: ly\n",
    "    #W2Del = A1norm.T.dot(b2Del) \n",
    "    W2Del = np.dot(A1.T, A2Del) / batch_size # Shape: (lh * ly)\n",
    "    #A1Del = b2Del.dot(W2.T) * norm \n",
    "    #A1Del = np.dot(A2Del,W2.T) # Shape: (n, lh)\n",
    "    A1Del = np.mean(np.dot(A2Del,W2.T),axis=0, keepdims=True) # Shape (1, lh)\n",
    "    S1Del = np.multiply(A1Del,(lambda x:(x>0))(S1)) # Shape: (n * lh)\n",
    "    b1Del = np.mean(S1Del, axis=0, keepdims=True) # Length: lh\n",
    "    W1Del = np.dot(X.T,S1Del) / batch_size # Shape: (lx * lh)\n",
    "    \n",
    "    b2n = b2 + alpha * b2Del # Length ly\n",
    "    W2n = W2 + alpha * W2Del # Shape (lh * ly)\n",
    "    b1n = b1 + alpha * b1Del # Length lh\n",
    "    W1n = W1 + alpha * W1Del # Shape (1x * lh)\n",
    "    \n",
    "    return W1n,b1n,W2n,b2n"
   ]
  },
  {
   "cell_type": "code",
   "execution_count": 48,
   "metadata": {
    "collapsed": true
   },
   "outputs": [],
   "source": [
    "# Build the complete Neural Network\n",
    "def TwoLayer_NN_train(X, Y, NumHidden = 100, batch_size = 20, OrigAlpha = 0.01, num_epochs = 10):    \n",
    "    # Recode Y as One-Hot\n",
    "    Y_oh = np.array(pd.get_dummies(np.squeeze(Y)))\n",
    "    \n",
    "    # Indicate number of units per layer\n",
    "    N = X.shape[0] # Number of samples\n",
    "    lx = X.shape[1] # Number of features\n",
    "    ly = Y_oh.shape[1] # Number of classes\n",
    "    lh = NumHidden # Number of hidden units\n",
    "    \n",
    "    # Initialized the parameters\n",
    "    W1,b1,W2,b2 = param_init(lx,lh,ly)\n",
    "    \n",
    "    # Run 20 train iterations, record the error every time\n",
    "    for epoch in range(num_epochs):\n",
    "        if epoch <= 5:\n",
    "            alpha = OrigAlpha\n",
    "        elif epoch <= 10: \n",
    "            alpha = OrigAlpha * 1e-1\n",
    "        elif epoch <= 15:\n",
    "            alpha = OrigAlpha * 1e-2\n",
    "        else:\n",
    "            alpha = OrigAlpha * 1e-3\n",
    "        total_cor = 0\n",
    "        iteration = int(N / batch_size)\n",
    "        for n in range(iteration):\n",
    "            r = np.random.choice(N, size=batch_size, replace=False)\n",
    "            x_samps = X[[r]]\n",
    "            y_samps = Y_oh[[r]]\n",
    "            # Forward\n",
    "            #A1norm,norm,A2 = forward_prop(x_samp,W1,b1,W2,b2)\n",
    "            S1, A1, A2 = forward_prop(x_samps,W1,b1,W2,b2)\n",
    "            #if n%2000 == 0:\n",
    "            #    print(A2,Y[r])\n",
    "            pred = np.argmax(A2,axis=1)\n",
    "            total_cor += np.sum(pred == Y[r])\n",
    "            # Backward\n",
    "            #W1,b1,W2,b2 = back_prop(W1,b1,W2,b2,A1norm,A2,x_samp,y_samp,norm,alpha)\n",
    "            W1,b1,W2,b2 = back_prop(W1,b1,W2,b2,S1,A1,A2,x_samps,y_samps,alpha)\n",
    "        print(\"Training Accuracy: \",total_cor / np.float(N))\n",
    "    return W1,b1,W2,b2"
   ]
  },
  {
   "cell_type": "code",
   "execution_count": 53,
   "metadata": {
    "scrolled": false
   },
   "outputs": [
    {
     "name": "stdout",
     "output_type": "stream",
     "text": [
      "Training Accuracy:  0.9292333333333334\n",
      "Training Accuracy:  0.9709333333333333\n",
      "Training Accuracy:  0.9774666666666667\n",
      "Training Accuracy:  0.98245\n",
      "Training Accuracy:  0.98575\n",
      "Training Accuracy:  0.9873\n",
      "Training Accuracy:  0.9935833333333334\n",
      "Training Accuracy:  0.99565\n",
      "Training Accuracy:  0.9955166666666667\n",
      "Training Accuracy:  0.9964666666666666\n"
     ]
    }
   ],
   "source": [
    "W1,b1,W2,b2 = TwoLayer_NN_train(x_train, y_train, NumHidden=100, batch_size = 1, OrigAlpha=0.01, num_epochs=10)"
   ]
  },
  {
   "cell_type": "code",
   "execution_count": 54,
   "metadata": {
    "collapsed": true
   },
   "outputs": [],
   "source": [
    "# For a given neural network, predict an input X\n",
    "def predict_NN(X,W1,b1,W2,b2):\n",
    "    X_predprob = forward_prop(X,W1,b1,W2,b2)[2]\n",
    "    X_pred = X_predprob.argmax(axis=1) # Take the biggest probability as its choice\n",
    "    return X_pred"
   ]
  },
  {
   "cell_type": "code",
   "execution_count": 55,
   "metadata": {},
   "outputs": [
    {
     "data": {
      "text/plain": [
       "0.9964166666666666"
      ]
     },
     "execution_count": 55,
     "metadata": {},
     "output_type": "execute_result"
    }
   ],
   "source": [
    "y_predtrain = predict_NN(x_train,W1,b1,W2,b2)\n",
    "np.sum(y_predtrain == y_train) / x_train.shape[0]"
   ]
  },
  {
   "cell_type": "code",
   "execution_count": 56,
   "metadata": {},
   "outputs": [
    {
     "data": {
      "text/plain": [
       "0.9805"
      ]
     },
     "execution_count": 56,
     "metadata": {},
     "output_type": "execute_result"
    }
   ],
   "source": [
    "y_predtest = predict_NN(x_test,W1,b1,W2,b2)\n",
    "np.sum(y_predtest == y_test) / x_test.shape[0]"
   ]
  }
 ],
 "metadata": {
  "kernelspec": {
   "display_name": "Python 3",
   "language": "python",
   "name": "python3"
  },
  "language_info": {
   "codemirror_mode": {
    "name": "ipython",
    "version": 3
   },
   "file_extension": ".py",
   "mimetype": "text/x-python",
   "name": "python",
   "nbconvert_exporter": "python",
   "pygments_lexer": "ipython3",
   "version": "3.6.3"
  }
 },
 "nbformat": 4,
 "nbformat_minor": 2
}
