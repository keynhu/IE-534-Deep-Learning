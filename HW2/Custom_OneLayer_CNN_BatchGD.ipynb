{
 "cells": [
  {
   "cell_type": "code",
   "execution_count": 14,
   "metadata": {},
   "outputs": [],
   "source": [
    "# Import Module\n",
    "import numpy as np\n",
    "import pandas as pd\n",
    "import matplotlib.pyplot as plt\n",
    "import h5py\n",
    "from scipy import signal"
   ]
  },
  {
   "cell_type": "code",
   "execution_count": 15,
   "metadata": {
    "collapsed": true
   },
   "outputs": [],
   "source": [
    "# Read data, which has a size of N * 784 and N * 1\n",
    "MNIST = h5py.File(\"..\\MNISTdata.hdf5\",'r')\n",
    "x_train = np.float32(MNIST['x_train'][:])\n",
    "x_test = np.float32(MNIST['x_test'][:])\n",
    "y_train = np.int32(MNIST['y_train'][:,0])\n",
    "y_test = np.int32(MNIST['y_test'][:,0])"
   ]
  },
  {
   "cell_type": "code",
   "execution_count": 16,
   "metadata": {
    "collapsed": true
   },
   "outputs": [],
   "source": [
    "# Reshape samples as 28 * 28 images\n",
    "x_trainnew = np.reshape(x_train, (len(x_train),28,28))\n",
    "x_testnew = np.reshape(x_test, (len(x_test),28,28))"
   ]
  },
  {
   "cell_type": "code",
   "execution_count": 17,
   "metadata": {
    "collapsed": true
   },
   "outputs": [],
   "source": [
    "# Build activate functions\n",
    "relu = lambda x: x*(x>0)\n",
    "\n",
    "# Input a m * n matrix, output a m * n matrix whose rows are transformed and normalized\n",
    "def softmax(X):\n",
    "    Xexp = np.exp(X)\n",
    "    return Xexp / np.sum(Xexp,axis=1,keepdims=True)"
   ]
  },
  {
   "cell_type": "code",
   "execution_count": 18,
   "metadata": {
    "collapsed": true
   },
   "outputs": [],
   "source": [
    "# Initialize the parameters\n",
    "def param_init(input_size, kernel_size, output_size):\n",
    "    lx = input_size # 2-dim\n",
    "    lk = kernel_size # 2-dim\n",
    "    lh = (lx[0]-lk[0]+1, lx[1]-lk[1]+1) # Hidden layer size, 2-dim\n",
    "    ly = output_size # 1-dim\n",
    "    K = np.random.randn(lk[0],lk[1]) / max(lx)\n",
    "    W = np.random.randn(ly,lh[0],lh[1]) / max(lx)\n",
    "    b = np.zeros(ly)\n",
    "    \n",
    "    return K,W,b"
   ]
  },
  {
   "cell_type": "code",
   "execution_count": 36,
   "metadata": {
    "collapsed": true
   },
   "outputs": [],
   "source": [
    "# Build the forward step\n",
    "# Model: Z = X * K → H = relu(Z) → U = WH + b → Yhat = softmax(U)\n",
    "def Convolution(image, kernel): # Suppose images are given as (N,dim_1,dim_2)\n",
    "    flag = 0 # Signify whether image has only 2 dims\n",
    "    if len(image.shape)==2: # If only given (dim_1,dim_2), expand it to (1,dim_1,dim_2)\n",
    "        flag = 1\n",
    "        image = np.expand_dims(image,axis=0)\n",
    "    N = image.shape[0]\n",
    "    d1,d2 = image.shape[1:]\n",
    "    k1,k2 = kernel.shape\n",
    "    output_a = d1 - k1 + 1\n",
    "    output_b = d2 - k2 + 1\n",
    "    conv = np.zeros((N,output_a,output_b))\n",
    "    for n in range(N):\n",
    "        conv[n] = signal.correlate2d(image[n], kernel, mode=\"valid\")\n",
    "    if flag:\n",
    "        conv = np.squeeze(conv)\n",
    "    return conv # Output tensor shape (N,convdim_1,convdim_2)\n",
    "\n",
    "def forward_prop(X,K,W,b):\n",
    "    # Input to Hidden layer\n",
    "    Z = Convolution(X,K) # Shape: (N, lx[0]-lk[0]+1, lx[1]-lk[1]+1)\n",
    "    H = relu(Z) # Shape: (N, lx[0]-lk[0]+1, lx[1]-lk[1]+1)\n",
    "    \n",
    "    # Hidden layer to Output\n",
    "    U = np.array([np.sum(np.multiply(W,Hobs), axis=(1,2)) for Hobs in H]) + b\n",
    "    U.shape = (X.shape[0],W.shape[0]) # Shape: (N * ly)\n",
    "    Yhat = softmax(U) # Shape: (N * ly)\n",
    "    \n",
    "    return Z, H, Yhat"
   ]
  },
  {
   "cell_type": "code",
   "execution_count": 20,
   "metadata": {
    "collapsed": true
   },
   "outputs": [],
   "source": [
    "# Build the back-propagation step\n",
    "def back_prop(K,W,b,Z,H,Yhat,X,Y,alpha):\n",
    "    batch_size = X.shape[0]\n",
    "    UDel = Y - Yhat # Shape (N, ly)\n",
    "    bDel = np.mean(UDel,axis=0,keepdims=True) # Shape (1, ly)\n",
    "    WDel = np.tensordot(UDel.T, H, axes=1) / batch_size # Shape (ly, lx[0]-lk[0]+1, lx[1]-lk[1]+1)\n",
    "    HDel = np.mean(np.tensordot(UDel, W, axes=1), axis=0, keepdims=True) # Shape (1, lx[0]-lk[0]+1, lx[1]-lk[1]+1)\n",
    "    ZDel = np.multiply(HDel,(lambda x:(x>0))(Z)) # Shape (N, lx[0]-lk[0]+1, lx[1]-lk[1]+1)\n",
    "    meanZDel = np.mean(ZDel, axis=0) # Shape (lx[0]-lk[0]+1, lx[1]-lk[1]+1)\n",
    "    KDel = np.mean(np.array([Convolution(Xobs,meanZDel) for Xobs in X]),axis=0) # Shape: (lk[0], lk[1]) -- Mean of all samples\n",
    "    \n",
    "    bn = b + alpha * bDel # Length ly\n",
    "    Wn = W + alpha * WDel # Shape (ly, lx[0]-lk[0]+1, lx[1]-lk[1]+1)\n",
    "    Kn = K + alpha * KDel # Shape (1k[0], lk[1])\n",
    "    \n",
    "    return Kn,Wn,bn"
   ]
  },
  {
   "cell_type": "code",
   "execution_count": 35,
   "metadata": {
    "collapsed": true
   },
   "outputs": [],
   "source": [
    "# Build the complete Neural Network\n",
    "def TwoLayer_CNN_train(X, Y, BatchSize = 1, ChannelSize = (3,3), num_channel = 1, OrigAlpha = 0.01, num_epochs = 10):    \n",
    "    # Recode Y as One-Hot\n",
    "    Y_oh = np.array(pd.get_dummies(np.squeeze(Y)))\n",
    "    \n",
    "    # Indicate number of units per layer\n",
    "    N = X.shape[0] # Number of samples\n",
    "    xsize = X.shape[1:] # Size of every sample\n",
    "    ksize = ChannelSize # Size of the channel\n",
    "    ysize = Y_oh.shape[1] # Number of classes\n",
    "    \n",
    "    # Initialized the parameters\n",
    "    K,W,b = param_init(xsize,ksize,ysize)\n",
    "    \n",
    "    # Run 20 train iterations, record the error every time\n",
    "    for epoch in range(num_epochs):\n",
    "        if epoch <= 5:\n",
    "            alpha = OrigAlpha\n",
    "        elif epoch <= 10: \n",
    "            alpha = OrigAlpha * 1e-1\n",
    "        elif epoch <= 15:\n",
    "            alpha = OrigAlpha * 1e-2\n",
    "        else:\n",
    "            alpha = OrigAlpha * 1e-3\n",
    "        total_cor = 0\n",
    "        for n in range(int(N/6)):\n",
    "            r = np.random.choice(N, size=BatchSize, replace=False)\n",
    "            x_samp = X[[r]]\n",
    "            y_samp = Y_oh[[r]]\n",
    "            # Forward\n",
    "            Z, H, Yhat = forward_prop(x_samp,K,W,b)\n",
    "            pred = np.argmax(Yhat)\n",
    "            if pred==Y[r]:\n",
    "                total_cor += 1\n",
    "            # Backward\n",
    "            K,W,b = back_prop(K,W,b,Z,H,Yhat,x_samp,y_samp,alpha)\n",
    "        print(\"Training Accuracy: \",total_cor / np.float(N/6))\n",
    "    return K,W,b"
   ]
  },
  {
   "cell_type": "code",
   "execution_count": 37,
   "metadata": {},
   "outputs": [
    {
     "name": "stdout",
     "output_type": "stream",
     "text": [
      "Training Accuracy:  0.8506\n",
      "Training Accuracy:  0.893\n",
      "Training Accuracy:  0.9005\n",
      "Training Accuracy:  0.905\n",
      "Training Accuracy:  0.9097\n"
     ]
    }
   ],
   "source": [
    "K,W,b = TwoLayer_CNN_train(x_trainnew, y_train, OrigAlpha=0.01, num_epochs=5)"
   ]
  },
  {
   "cell_type": "code",
   "execution_count": 50,
   "metadata": {
    "collapsed": true
   },
   "outputs": [],
   "source": [
    "# For a given neural network, predict an input X\n",
    "def predict_NN(X,K,W,b):\n",
    "    X_predprob = forward_prop(X,K,W,b)[2]\n",
    "    X_pred = X_predprob.argmax(axis=1) # Take the biggest probability as its choice\n",
    "    return X_pred"
   ]
  },
  {
   "cell_type": "code",
   "execution_count": 53,
   "metadata": {},
   "outputs": [
    {
     "data": {
      "text/plain": [
       "0.9117666666666666"
      ]
     },
     "execution_count": 53,
     "metadata": {},
     "output_type": "execute_result"
    }
   ],
   "source": [
    "# Predict on train set\n",
    "y_predtrain = predict_NN(x_trainnew,K,W,b)\n",
    "np.sum(y_predtrain == y_train) / x_trainnew.shape[0]"
   ]
  },
  {
   "cell_type": "code",
   "execution_count": 54,
   "metadata": {},
   "outputs": [
    {
     "data": {
      "text/plain": [
       "0.9117"
      ]
     },
     "execution_count": 54,
     "metadata": {},
     "output_type": "execute_result"
    }
   ],
   "source": [
    "# Predict on test set\n",
    "# Still has problems!\n",
    "y_predtest = predict_NN(x_testnew,K,W,b)\n",
    "np.sum(y_predtest == y_test) / x_testnew.shape[0]"
   ]
  },
  {
   "cell_type": "code",
   "execution_count": 7,
   "metadata": {
    "collapsed": true
   },
   "outputs": [],
   "source": [
    "Ut = np.array([1,2,3])\n",
    "Ut.shape = (1,3)\n",
    "Wt = np.array([[[1,1],[2,2]],[[3,3],[4,4]],[[5,5],[6,6]]])\n",
    "Ht = np.array([[[0.1,0.1],[0.2,0.2]],[[0.3,0.3],[0.4,0.4]]])\n",
    "kt = np.array([np.sum(np.multiply(Wt,H),axis=(1,2)) for H in Ht])\n",
    "#np.tensordot(Ut,Wt,axes=1)"
   ]
  },
  {
   "cell_type": "code",
   "execution_count": 45,
   "metadata": {},
   "outputs": [
    {
     "data": {
      "text/plain": [
       "(1, 5, 5)"
      ]
     },
     "execution_count": 45,
     "metadata": {},
     "output_type": "execute_result"
    }
   ],
   "source": [
    "#r = np.random.choice(10, size=3, replace=False)\n",
    "r = np.random.randint(10)\n",
    "t = np.random.randn(10,5,5)\n",
    "t[[r]].shape"
   ]
  }
 ],
 "metadata": {
  "kernelspec": {
   "display_name": "Python 3",
   "language": "python",
   "name": "python3"
  },
  "language_info": {
   "codemirror_mode": {
    "name": "ipython",
    "version": 3
   },
   "file_extension": ".py",
   "mimetype": "text/x-python",
   "name": "python",
   "nbconvert_exporter": "python",
   "pygments_lexer": "ipython3",
   "version": "3.6.3"
  }
 },
 "nbformat": 4,
 "nbformat_minor": 2
}
