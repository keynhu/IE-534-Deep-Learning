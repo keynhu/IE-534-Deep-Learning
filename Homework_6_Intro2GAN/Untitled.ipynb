{
 "cells": [
  {
   "cell_type": "markdown",
   "metadata": {
    "collapsed": true
   },
   "source": [
    "This notebook aims at giving evaluation on my model. \n",
    "1. Choose 5-6 pictures of generated images to show how training progresses (for example - epoch 0, 100, 200, 300, 400, 500).\n",
    "2. A batch of real images, a batch of the gradients from an alternate class for these images, and the modified images the discriminator incorrectly classifies.\n",
    "3. Synthetic images maximizing the class output. One for the discriminator trained without the generator and one for the discriminator trained with the generator.\n",
    "4. Synthetic images maximizing a particular layer of features. Do this for at least two different layers (for example - layer 4 and layer 8.)\n",
    "5. Report your test accuracy for the two discriminators."
   ]
  },
  {
   "cell_type": "code",
   "execution_count": null,
   "metadata": {
    "collapsed": true
   },
   "outputs": [],
   "source": [
    "# Device configuration\n",
    "device = torch.device('cuda:0' if torch.cuda.is_available() else 'cpu')"
   ]
  },
  {
   "cell_type": "code",
   "execution_count": null,
   "metadata": {
    "collapsed": true
   },
   "outputs": [],
   "source": [
    "# Plot images\n",
    "def custom_plot(samples):\n",
    "    fig = plt.figure(figsize=(10, 10))\n",
    "    gs = gridspec.GridSpec(10, 10)\n",
    "    gs.update(wspace=0.02, hspace=0.02)\n",
    "    \n",
    "    for i, sample in enumerate(samples):\n",
    "        ax = plt.subplot(gs[i])\n",
    "        plt.axis(\"off\")\n",
    "        ax.set_xticklabels([])\n",
    "        ax.set_yticklabels([])\n",
    "        plt.imshow((sample*255).astype(np.uint8))\n",
    "    return fig"
   ]
  },
  {
   "cell_type": "code",
   "execution_count": null,
   "metadata": {
    "collapsed": true
   },
   "outputs": [],
   "source": [
    "# 2\n",
    "transform_test = transforms.Compose([\n",
    "    transforms.CenterCrop(32),\n",
    "    transforms.ToTensor(),\n",
    "    transforms.Normalize((0.5, 0.5, 0.5), (0.5, 0.5, 0.5)),\n",
    "])\n",
    "\n",
    "testset = torchvision.datasets.CIFAR10(root='./', train=False, download=False, transform=transform_test)\n",
    "testloader = torch.utils.data.DataLoader(testset, batch_size=batch_size, shuffle=False, num_workers=8)\n",
    "testloader = enumerate(testloader)\n",
    "\n",
    "model = torch.load('best_GAN_Baseline_Discriminator.ckpt').to(device)\n",
    "model.eval()\n",
    "\n",
    "batch_idx, (X_batch, Y_batch) = testloader.next()\n",
    "X_batch = X_batch.to(device)\n",
    "Y_batch_alternate = (Y_batch + 1)%10\n",
    "Y_batch_alternate = Y_batch_alternate.to(device)\n",
    "Y_batch = Y_batch.to(device)\n",
    "\n",
    "samples = X_batch.cpu().numpy()\n",
    "samples += 1\n",
    "samples /= 2\n",
    "samples = samples.transpose(0,2,3,1)\n",
    "fig = custom_plot(samples)\n",
    "plt.savefig(\"HW6/Visualization/real_images.png\", bbox_inches=\"tight\")\n",
    "plt.close(fig)\n",
    "\n",
    "_, output = model(X_batch)\n",
    "prediction = output.data.max(1)[1] # first column has actual prob.\n",
    "accuracy = ( float( prediction.eq(Y_batch.data).sum() ) /float(batch_size))*100.0\n",
    "print(accuracy)"
   ]
  },
  {
   "cell_type": "code",
   "execution_count": null,
   "metadata": {
    "collapsed": true
   },
   "outputs": [],
   "source": [
    "# 3\n"
   ]
  }
 ],
 "metadata": {
  "kernelspec": {
   "display_name": "Python 3",
   "language": "python",
   "name": "python3"
  },
  "language_info": {
   "codemirror_mode": {
    "name": "ipython",
    "version": 3
   },
   "file_extension": ".py",
   "mimetype": "text/x-python",
   "name": "python",
   "nbconvert_exporter": "python",
   "pygments_lexer": "ipython3",
   "version": "3.6.3"
  }
 },
 "nbformat": 4,
 "nbformat_minor": 2
}
