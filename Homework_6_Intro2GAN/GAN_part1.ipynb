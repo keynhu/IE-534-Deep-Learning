{
 "cells": [
  {
   "cell_type": "markdown",
   "metadata": {},
   "source": [
    "This notebook basically refers to https://courses.engr.illinois.edu/ie534/fa2018/secure/GAN.html#part-1-training-a-gan-on-cifar10."
   ]
  },
  {
   "cell_type": "code",
   "execution_count": 2,
   "metadata": {
    "collapsed": true
   },
   "outputs": [],
   "source": [
    "import numpy as np\n",
    "import pandas as pd\n",
    "import matplotlib.pyplot as plt\n",
    "import datetime\n",
    "\n",
    "import torch\n",
    "import torch.nn as nn\n",
    "import torch.utils.data as Data\n",
    "\n",
    "import torchvision\n",
    "from torch.utils import model_zoo\n",
    "import torchvision.transforms as transforms"
   ]
  },
  {
   "cell_type": "code",
   "execution_count": 3,
   "metadata": {},
   "outputs": [],
   "source": [
    "state = torch.load(\"Baseline_Discriminator_checkpoint.pth.tar\")\n",
    "train_acc = state[\"Train_Accuracy\"]\n",
    "test_acc = state[\"Test_Accuracy\"]"
   ]
  },
  {
   "cell_type": "code",
   "execution_count": 4,
   "metadata": {},
   "outputs": [
    {
     "data": {
      "text/plain": [
       "(0.8884, 50)"
      ]
     },
     "execution_count": 4,
     "metadata": {},
     "output_type": "execute_result"
    }
   ],
   "source": [
    "np.max(test_acc), np.argmax(test_acc)"
   ]
  },
  {
   "cell_type": "code",
   "execution_count": 5,
   "metadata": {},
   "outputs": [
    {
     "data": {
      "text/plain": [
       "(0.9820913461538462, 50)"
      ]
     },
     "execution_count": 5,
     "metadata": {},
     "output_type": "execute_result"
    }
   ],
   "source": [
    "np.max(train_acc), np.argmax(train_acc)"
   ]
  },
  {
   "cell_type": "code",
   "execution_count": 16,
   "metadata": {
    "collapsed": true
   },
   "outputs": [],
   "source": [
    "state = torch.load(\"Baseline_Discriminator_checkpoint.pth.tar\")\n",
    "train_acc = state[\"Train_Accuracy\"]\n",
    "test_acc = state[\"Test_Accuracy\"]\n",
    "\n",
    "plt.plot(train_acc, color='blue',linestyle = '-', label=\"Train\")\n",
    "plt.plot(test_acc, color=\"red\", linestyle = '-', label=\"Test\")\n",
    "plt.xlabel(\"Epoch\")\n",
    "plt.ylabel(\"Accuracy\")\n",
    "plt.title(\"Train Accuracy of Baseline Discriminator\")\n",
    "plt.legend()\n",
    "#plt.show()\n",
    "plt.savefig(\"Baseline_Accuracy_Plot.png\")"
   ]
  },
  {
   "cell_type": "code",
   "execution_count": null,
   "metadata": {
    "collapsed": true
   },
   "outputs": [],
   "source": [
    "# Save function\n",
    "def save_checkpoint(obj, is_best, filename=\"checkpoint.pth.tar\"):\n",
    "    torch.save(obj, filename)\n",
    "    if is_best:\n",
    "        shutil.copyfile(filename, \"best_\"+filename)"
   ]
  },
  {
   "cell_type": "code",
   "execution_count": null,
   "metadata": {
    "collapsed": true
   },
   "outputs": [],
   "source": [
    "# Data augmentation\n",
    "transform_train = transforms.Compose([\n",
    "    transforms.RandomResizedCrop(32, scale=(0.7, 1.0), ratio=(1.0,1.0)),\n",
    "    transforms.ColorJitter(\n",
    "            brightness=0.1*torch.randn(1),\n",
    "            contrast=0.1*torch.randn(1),\n",
    "            saturation=0.1*torch.randn(1),\n",
    "            hue=0.1*torch.randn(1)),\n",
    "    transforms.RandomHorizontalFlip(),\n",
    "    transforms.ToTensor(),\n",
    "    transforms.Normalize((0.5, 0.5, 0.5), (0.5, 0.5, 0.5)),\n",
    "])\n",
    "\n",
    "transform_test = transforms.Compose([\n",
    "    transforms.CenterCrop(32),\n",
    "    transforms.ToTensor(),\n",
    "    transforms.Normalize((0.5, 0.5, 0.5), (0.5, 0.5, 0.5)),\n",
    "])"
   ]
  },
  {
   "cell_type": "code",
   "execution_count": null,
   "metadata": {
    "collapsed": true
   },
   "outputs": [],
   "source": [
    "# Load data\n",
    "BatchSize = 128\n",
    "trainset = torchvision.datasets.CIFAR10(root='./data', train=True, download=True,\n",
    "                                        transform=transform_train)\n",
    "train_loader = Data.DataLoader(trainset, batch_size=BatchSize, shuffle=True, num_workers=8)\n",
    "testset = torchvision.datasets.CIFAR10(root='./data', train=False, download=True,\n",
    "                                       transform=transform_test)\n",
    "test_loader = torch.utils.data.DataLoader(testset, batch_size=BatchSize, shuffle=False, num_workers=8)"
   ]
  },
  {
   "cell_type": "code",
   "execution_count": 5,
   "metadata": {
    "collapsed": true
   },
   "outputs": [],
   "source": [
    "# Device configuration\n",
    "device = torch.device('cuda:0' if torch.cuda.is_available() else 'cpu')"
   ]
  },
  {
   "cell_type": "code",
   "execution_count": 3,
   "metadata": {
    "collapsed": true
   },
   "outputs": [],
   "source": [
    "# Create torch model with structure given in reference\n",
    "LongConv = nn.Sequential(nn.Conv2d(in_channels=3,out_channels=196,kernel_size=3,stride=1,padding=1),\n",
    "                         nn.LayerNorm(normalized_shape=(196,32,32)),\n",
    "                         nn.LeakyReLU(inplace=True), # Conv layer 1\n",
    "                         nn.Conv2d(in_channels=196,out_channels=196,kernel_size=3,stride=1,padding=2),\n",
    "                         nn.LayerNorm(normalized_shape=(196,16,16)),\n",
    "                         nn.LeakyReLU(inplace=True), # Conv layer 2\n",
    "                         nn.Conv2d(in_channels=196,out_channels=196,kernel_size=3,stride=1,padding=1), \n",
    "                         nn.LayerNorm(normalized_shape=(196,16,16)),\n",
    "                         nn.LeakyReLU(inplace=True), # Conv layer 3\n",
    "                         nn.Conv2d(in_channels=196,out_channels=196,kernel_size=3,stride=1,padding=2),\n",
    "                         nn.LayerNorm(normalized_shape=(196,8,8)),\n",
    "                         nn.LeakyReLU(inplace=True), # Conv layer 4\n",
    "                         nn.Conv2d(in_channels=196,out_channels=196,kernel_size=3,stride=1,padding=1),\n",
    "                         nn.LayerNorm(normalized_shape=(196,8,8)),\n",
    "                         nn.LeakyReLU(inplace=True), # Conv layer 5\n",
    "                         nn.Conv2d(in_channels=196,out_channels=196,kernel_size=3,stride=1,padding=1),\n",
    "                         nn.LayerNorm(normalized_shape=(196,8,8)),\n",
    "                         nn.LeakyReLU(inplace=True), # Conv layer 6\n",
    "                         nn.Conv2d(in_channels=196,out_channels=196,kernel_size=3,stride=1,padding=1),\n",
    "                         nn.LayerNorm(normalized_shape=(196,8,8)),\n",
    "                         nn.LeakyReLU(inplace=True), # Conv layer 7\n",
    "                         nn.Conv2d(in_channels=196,out_channels=196,kernel_size=3,stride=1,padding=2),\n",
    "                         nn.LayerNorm(normalized_shape=(196,4,4)),\n",
    "                         nn.LeakyReLU(inplace=True), # Conv layer 8\n",
    "                         nn.MaxPool2d(kernel_size=4,stride=4)) # Max Pooling                       \n",
    "Scorer = nn.Linear(in_features=196,out_features=1,bias=True)\n",
    "Classifier = nn.Linear(in_features=196,out_features=10,bias=True)"
   ]
  },
  {
   "cell_type": "code",
   "execution_count": 4,
   "metadata": {
    "collapsed": true
   },
   "outputs": [],
   "source": [
    "# Define a Convolution NN class\n",
    "class ConvNet(nn.Module):\n",
    "    def __init__(self):\n",
    "        super(ConvNet, self).__init__()\n",
    "        self.ConvLayer = LongConv\n",
    "        self.Class = Classifier\n",
    "        self.Score = Scorer\n",
    "        \n",
    "    def forward(self,x):\n",
    "        ConvOut = self.ConvLayer(x)\n",
    "        Out = ConvOut.reshape(ConvOut.shape[0],-1)\n",
    "        ScoreOut = self.Score(Out)\n",
    "        ClassOut = self.Class(Out)\n",
    "        return ScoreOut, ClassOut"
   ]
  },
  {
   "cell_type": "code",
   "execution_count": 6,
   "metadata": {
    "collapsed": true
   },
   "outputs": [],
   "source": [
    "# Define model\n",
    "model = ConvNet().to(device)\n",
    "\n",
    "# Define Loss Function and Optimizer\n",
    "learning_rate = 1e-4\n",
    "criterion = nn.CrossEntropyLoss()\n",
    "optimizer = torch.optim.Adam(model.parameters(),lr=learning_rate)"
   ]
  },
  {
   "cell_type": "code",
   "execution_count": 8,
   "metadata": {},
   "outputs": [
    {
     "name": "stdout",
     "output_type": "stream",
     "text": [
      "Help on method zero_grad in module torch.nn.modules.module:\n",
      "\n",
      "zero_grad() method of __main__.ConvNet instance\n",
      "    Sets gradients of all model parameters to zero.\n",
      "\n"
     ]
    }
   ],
   "source": [
    "help(model.zero_grad)"
   ]
  },
  {
   "cell_type": "code",
   "execution_count": null,
   "metadata": {
    "collapsed": true
   },
   "outputs": [],
   "source": [
    "# Training and testing process\n",
    "start_time = datetime.datetime.now()\n",
    "num_epochs = 100\n",
    "train_acc_seq = []\n",
    "test_acc_seq = []\n",
    "\n",
    "for epoch in range(num_epochs):\n",
    "    total = 0\n",
    "    correct = 0\n",
    "    if epoch == 50:\n",
    "        for group in optimizer.param_groups:\n",
    "            group['lr'] = learning_rate / 10\n",
    "    if epoch == 75:\n",
    "        for group in optimizer.param_groups:\n",
    "            group['lr'] = learning_rate / 100\n",
    "    if epoch > 5:\n",
    "        for group in optimizer.param_groups:\n",
    "            for p in group['params']:\n",
    "                state = optimizer.state[p]\n",
    "                if('step' in state and state['step']>=1024):\n",
    "                    state['step'] = 1000\n",
    "\n",
    "    for i,(images,labels) in enumerate(train_loader):\n",
    "        if labels.shape[0] < BatchSize:\n",
    "            continue\n",
    "        \n",
    "        images = images.to(device)\n",
    "        labels = labels.to(device).long()\n",
    "            \n",
    "        # Forward\n",
    "        _, classes = model(images)\n",
    "        loss = criterion(classes, labels)\n",
    "        _, predicted = torch.max(classes.data, 1)\n",
    "        total += labels.size(0)\n",
    "        correct += (labels == predicted).sum().item()\n",
    "            \n",
    "        # Backward\n",
    "        optimizer.zero_grad()\n",
    "        loss.backward()\n",
    "        optimizer.step()\n",
    "    # Compute train loss and accuracy\n",
    "    train_acc = correct/total\n",
    "    train_acc_seq.append(train_acc)\n",
    "    print(\"Epoch[{}/{}], Loss {:4f}, Accuracy {:4f}%\".format(\n",
    "                epoch+1, num_epochs, loss.item(), train_acc*100))\n",
    "    now_time = datetime.datetime.now()\n",
    "    print(\"Total cost time:{}\".format(now_time-start_time))\n",
    "    \n",
    "    # Compute test loss and accuracy\n",
    "    correct_test = 0\n",
    "    total_test = 0\n",
    "    model.eval()\n",
    "    with torch.no_grad():\n",
    "        for j, (images,labels) in enumerate(test_loader):\n",
    "        images = images.to(device)\n",
    "        labels = labels.to(device).long()\n",
    "        \n",
    "        _, outputs = model(images)\n",
    "        loss_test = criterion(outputs, labels)\n",
    "        _, predicted = torch.max(outputs.data, 1)\n",
    "        total_test += labels.size(0)\n",
    "        correct_test += (labels == predicted).sum().item()\n",
    "    test_acc = correct_test/total_test\n",
    "    test_acc_seq.append(test_acc)\n",
    "    is_best = (test_acc == np.max(test_acc_seq))\n",
    "    print(\"Test Accuracy of the model on test images:{}%\".format(test_acc*100))\n",
    "    now_time = datetime.datetime.now()\n",
    "    print(\"Total cost time:{}\".format(now_time-start_time))\n",
    "    \n",
    "    # Save model and checkpoints\n",
    "    state = {\"Epoch\": epoch, \"Train_Accuracy\": train_acc_seq, \"Test_Accuracy\": test_acc_seq}\n",
    "    save_checkpoint(state, is_best=False, filename=\"checkpoint.pth.tar\")\n",
    "    save_checkpoint(model, is_best, filename=\"GAN_Baseline_Discriminator.ckpt\")"
   ]
  }
 ],
 "metadata": {
  "kernelspec": {
   "display_name": "Python 3",
   "language": "python",
   "name": "python3"
  },
  "language_info": {
   "codemirror_mode": {
    "name": "ipython",
    "version": 3
   },
   "file_extension": ".py",
   "mimetype": "text/x-python",
   "name": "python",
   "nbconvert_exporter": "python",
   "pygments_lexer": "ipython3",
   "version": "3.6.3"
  }
 },
 "nbformat": 4,
 "nbformat_minor": 2
}
