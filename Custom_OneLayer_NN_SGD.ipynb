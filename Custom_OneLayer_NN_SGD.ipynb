{
 "cells": [
  {
   "cell_type": "markdown",
   "metadata": {},
   "source": [
    "# IE 534 Deep Learning - Homework 1 (Code)\n",
    "## Hanwen Hu\n",
    "## NetId: hanwenh3\n",
    "\n",
    "-----"
   ]
  },
  {
   "cell_type": "code",
   "execution_count": 1,
   "metadata": {},
   "outputs": [
    {
     "name": "stderr",
     "output_type": "stream",
     "text": [
      "C:\\Users\\LEN\\Anaconda3\\lib\\site-packages\\h5py\\__init__.py:34: FutureWarning: Conversion of the second argument of issubdtype from `float` to `np.floating` is deprecated. In future, it will be treated as `np.float64 == np.dtype(float).type`.\n",
      "  from ._conv import register_converters as _register_converters\n"
     ]
    }
   ],
   "source": [
    "# This python file builds a one-layer neural network from scratch to deal with MNIST dataset\n",
    "import numpy as np\n",
    "import pandas as pd\n",
    "import matplotlib.pyplot as plt\n",
    "import h5py"
   ]
  },
  {
   "cell_type": "code",
   "execution_count": 2,
   "metadata": {
    "collapsed": true
   },
   "outputs": [],
   "source": [
    "# Read data, which has a size of N * 784 and N * 1\n",
    "MNIST = h5py.File(\"..\\MNISTdata.hdf5\",'r')\n",
    "x_train = np.float32(MNIST['x_train'][:])\n",
    "x_test = np.float32(MNIST['x_test'][:])\n",
    "y_train = np.int32(MNIST['y_train'][:,0])\n",
    "y_test = np.int32(MNIST['y_test'][:,0])"
   ]
  },
  {
   "cell_type": "code",
   "execution_count": 3,
   "metadata": {
    "collapsed": true
   },
   "outputs": [],
   "source": [
    "# Build activate functions\n",
    "relu = lambda x: x*(x>0)\n",
    "\n",
    "# Input a m * n matrix, output a m * n matrix whose rows are transformed and normalized\n",
    "def softmax(X):\n",
    "    Xexp = np.exp(X)\n",
    "    return Xexp / np.sum(Xexp,axis=1,keepdims=True)"
   ]
  },
  {
   "cell_type": "code",
   "execution_count": 4,
   "metadata": {
    "collapsed": true
   },
   "outputs": [],
   "source": [
    "# Initialize the parameters\n",
    "def param_init(lx,lh,ly):\n",
    "    W1 = np.random.randn(lx,lh) / np.sqrt(lx)\n",
    "    W2 = np.random.randn(lh,ly) / np.sqrt(lx)\n",
    "    b1 = np.zeros(lh)\n",
    "    b2 = np.zeros(ly)\n",
    "    \n",
    "    return W1,b1,W2,b2"
   ]
  },
  {
   "cell_type": "code",
   "execution_count": 5,
   "metadata": {
    "collapsed": true
   },
   "outputs": [],
   "source": [
    "# Build the forward step\n",
    "# Model: S1 = XW1 + b1 → A1 = relu(S1) → S2 = A1W2 + b2 → A2 = softmax(S2)\n",
    "def forward_prop(X,W1,b1,W2,b2):\n",
    "    # Input to Hidden layer\n",
    "    S1 = np.dot(X,W1) + b1 # Shape: (1 * lx).dot(lx * lh) = (1 * lh)\n",
    "    A1 = relu(S1) # Shape: (1 * lh)\n",
    "    \n",
    "    # Hidden layer to Output\n",
    "    S2 = np.dot(A1,W2) + b2\n",
    "    A2 = softmax(S2) # Shape: (1 * ly)\n",
    "    \n",
    "    return S1, A1, A2"
   ]
  },
  {
   "cell_type": "code",
   "execution_count": 6,
   "metadata": {
    "collapsed": true
   },
   "outputs": [],
   "source": [
    "# Build the back-propagation step\n",
    "def back_prop(W1,b1,W2,b2,S1,A1,A2,X,Y,alpha):\n",
    "    b2Del = Y - A2\n",
    "    W2Del = np.dot(A1.T,b2Del)\n",
    "    A1Del = np.dot(b2Del,W2.T)\n",
    "    b1Del = np.multiply(A1Del,(lambda x:(x>0))(S1)) # Length: lh\n",
    "    W1Del = np.dot(X.T,b1Del) # Shape: (lx * lh)\n",
    "    \n",
    "    b2n = b2 + alpha * b2Del # Length ly\n",
    "    W2n = W2 + alpha * W2Del # Shape (lh * ly)\n",
    "    b1n = b1 + alpha * b1Del # Length lh\n",
    "    W1n = W1 + alpha * W1Del # Shape (1x * lh)\n",
    "    \n",
    "    return W1n,b1n,W2n,b2n"
   ]
  },
  {
   "cell_type": "code",
   "execution_count": 10,
   "metadata": {
    "collapsed": true
   },
   "outputs": [],
   "source": [
    "# Build the complete Neural Network\n",
    "def TwoLayer_NN_train(X, Y, NumHidden = 100, OrigAlpha = 0.01, num_epochs = 10):    \n",
    "    # Recode Y as One-Hot\n",
    "    Y_oh = np.array(pd.get_dummies(np.squeeze(Y)))\n",
    "    \n",
    "    # Indicate number of units per layer\n",
    "    N = X.shape[0] # Number of samples\n",
    "    lx = X.shape[1] # Number of features\n",
    "    ly = Y_oh.shape[1] # Number of classes\n",
    "    lh = NumHidden # Number of hidden units\n",
    "    \n",
    "    # Initialized the parameters\n",
    "    W1,b1,W2,b2 = param_init(lx,lh,ly)\n",
    "    \n",
    "    # Run 20 train iterations, record the error every time\n",
    "    for epoch in range(num_epochs):\n",
    "        if epoch <= 5:\n",
    "            alpha = OrigAlpha\n",
    "        elif epoch <= 10: \n",
    "            alpha = OrigAlpha * 1e-1\n",
    "        elif epoch <= 15:\n",
    "            alpha = OrigAlpha * 1e-2\n",
    "        else:\n",
    "            alpha = OrigAlpha * 1e-3\n",
    "        total_cor = 0\n",
    "        for n in range(N):\n",
    "            r = np.random.randint(N)\n",
    "            x_samp = X[[r]]\n",
    "            y_samp = Y_oh[[r]]\n",
    "            # Forward\n",
    "            S1, A1, A2 = forward_prop(x_samp,W1,b1,W2,b2)\n",
    "            pred = np.argmax(A2)\n",
    "            if pred==Y[r]:\n",
    "                total_cor += 1\n",
    "            # Backward\n",
    "            W1,b1,W2,b2 = back_prop(W1,b1,W2,b2,S1,A1,A2,x_samp,y_samp,alpha)\n",
    "        print(\"Training Accuracy: \",total_cor / np.float(N))\n",
    "    return W1,b1,W2,b2"
   ]
  },
  {
   "cell_type": "code",
   "execution_count": 11,
   "metadata": {
    "scrolled": false
   },
   "outputs": [
    {
     "name": "stdout",
     "output_type": "stream",
     "text": [
      "Training Accuracy:  0.92965\n",
      "Training Accuracy:  0.96965\n",
      "Training Accuracy:  0.9761666666666666\n",
      "Training Accuracy:  0.9817\n",
      "Training Accuracy:  0.9854833333333334\n",
      "Training Accuracy:  0.98785\n",
      "Training Accuracy:  0.99345\n",
      "Training Accuracy:  0.99495\n",
      "Training Accuracy:  0.9962\n",
      "Training Accuracy:  0.9965833333333334\n"
     ]
    }
   ],
   "source": [
    "W1,b1,W2,b2 = TwoLayer_NN_train(x_train, y_train, NumHidden=100, OrigAlpha=0.01, num_epochs=10)"
   ]
  },
  {
   "cell_type": "code",
   "execution_count": 12,
   "metadata": {
    "collapsed": true
   },
   "outputs": [],
   "source": [
    "# For a given neural network, predict an input X\n",
    "def predict_NN(X,W1,b1,W2,b2):\n",
    "    X_predprob = forward_prop(X,W1,b1,W2,b2)[2]\n",
    "    X_pred = X_predprob.argmax(axis=1) # Take the biggest probability as its choice\n",
    "    return X_pred"
   ]
  },
  {
   "cell_type": "code",
   "execution_count": 13,
   "metadata": {},
   "outputs": [
    {
     "data": {
      "text/plain": [
       "0.9965666666666667"
      ]
     },
     "execution_count": 13,
     "metadata": {},
     "output_type": "execute_result"
    }
   ],
   "source": [
    "y_predtrain = predict_NN(x_train,W1,b1,W2,b2)\n",
    "np.sum(y_predtrain == y_train) / x_train.shape[0]"
   ]
  },
  {
   "cell_type": "code",
   "execution_count": 14,
   "metadata": {},
   "outputs": [
    {
     "data": {
      "text/plain": [
       "0.98"
      ]
     },
     "execution_count": 14,
     "metadata": {},
     "output_type": "execute_result"
    }
   ],
   "source": [
    "y_predtest = predict_NN(x_test,W1,b1,W2,b2)\n",
    "np.sum(y_predtest == y_test) / x_test.shape[0]"
   ]
  }
 ],
 "metadata": {
  "kernelspec": {
   "display_name": "Python 3",
   "language": "python",
   "name": "python3"
  },
  "language_info": {
   "codemirror_mode": {
    "name": "ipython",
    "version": 3
   },
   "file_extension": ".py",
   "mimetype": "text/x-python",
   "name": "python",
   "nbconvert_exporter": "python",
   "pygments_lexer": "ipython3",
   "version": "3.6.3"
  }
 },
 "nbformat": 4,
 "nbformat_minor": 2
}
