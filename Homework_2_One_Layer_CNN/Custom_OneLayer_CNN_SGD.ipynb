{
 "cells": [
  {
   "cell_type": "code",
   "execution_count": 10,
   "metadata": {},
   "outputs": [],
   "source": [
    "# Import Module\n",
    "import numpy as np\n",
    "import pandas as pd\n",
    "import matplotlib.pyplot as plt\n",
    "import h5py\n",
    "from scipy import signal"
   ]
  },
  {
   "cell_type": "code",
   "execution_count": 2,
   "metadata": {
    "collapsed": true
   },
   "outputs": [],
   "source": [
    "# Read data, which has a size of N * 784 and N * 1\n",
    "MNIST = h5py.File(\"..\\MNISTdata.hdf5\",'r')\n",
    "x_train = np.float32(MNIST['x_train'][:])\n",
    "x_test = np.float32(MNIST['x_test'][:])\n",
    "y_train = np.int32(MNIST['y_train'][:,0])\n",
    "y_test = np.int32(MNIST['y_test'][:,0])"
   ]
  },
  {
   "cell_type": "code",
   "execution_count": 3,
   "metadata": {
    "collapsed": true
   },
   "outputs": [],
   "source": [
    "# Reshape samples as 28 * 28 images\n",
    "x_trainnew = np.reshape(x_train, (len(x_train),28,28))\n",
    "x_testnew = np.reshape(x_test, (len(x_test),28,28))"
   ]
  },
  {
   "cell_type": "code",
   "execution_count": 4,
   "metadata": {
    "collapsed": true
   },
   "outputs": [],
   "source": [
    "# Build activate functions\n",
    "relu = lambda x: x*(x>0)\n",
    "\n",
    "# Input a m * n matrix, output a m * n matrix whose rows are transformed and normalized\n",
    "def softmax(X):\n",
    "    Xexp = np.exp(X)\n",
    "    return Xexp / np.sum(Xexp,axis=1,keepdims=True)"
   ]
  },
  {
   "cell_type": "code",
   "execution_count": 5,
   "metadata": {
    "collapsed": true
   },
   "outputs": [],
   "source": [
    "# Initialize the parameters\n",
    "def param_init(input_size, kernel_size, output_size):\n",
    "    lx = input_size # 2-dim\n",
    "    lk = kernel_size # 2-dim\n",
    "    lh = (lx[0]-lk[0]+1, lx[1]-lk[1]+1) # Hidden layer size, 2-dim\n",
    "    ly = output_size # 1-dim\n",
    "    K = np.random.randn(lk[0],lk[1]) / max(lx)\n",
    "    W = np.random.randn(ly,lh[0],lh[1]) / max(lx)\n",
    "    b = np.zeros(ly)\n",
    "    \n",
    "    return K,W,b"
   ]
  },
  {
   "cell_type": "code",
   "execution_count": 6,
   "metadata": {
    "collapsed": true
   },
   "outputs": [],
   "source": [
    "# Build the forward step\n",
    "# Model: Z = X * K → H = relu(Z) → U = WH + b → Yhat = softmax(U)\n",
    "def Convolution(image, kernel):\n",
    "    d1,d2 = image.shape\n",
    "    k1,k2 = kernel.shape\n",
    "    output_a = d1 - k1 + 1\n",
    "    output_b = d2 - k2 + 1\n",
    "    conv = signal.correlate2d(image, kernel, mode=\"valid\")\n",
    "    return conv\n",
    "\n",
    "def forward_prop(X,K,W,b):\n",
    "    # Input to Hidden layer\n",
    "    Z = Convolution(X,K) # Shape: (1, lx[0]-lk[0]+1, lx[1]-lk[1]+1)\n",
    "    H = relu(Z) # Shape: (1, lx[0]-lk[0]+1, lx[1]-lk[1]+1)\n",
    "    \n",
    "    # Hidden layer to Output\n",
    "    U = np.sum(np.multiply(W,H), axis=(1,2)) + b # Shape: (1 * ly)\n",
    "    U.shape = (1,W.shape[0])\n",
    "    Yhat = softmax(U) # Shape: (1 * ly)\n",
    "    \n",
    "    return Z, H, Yhat"
   ]
  },
  {
   "cell_type": "code",
   "execution_count": 7,
   "metadata": {
    "collapsed": true
   },
   "outputs": [],
   "source": [
    "# Build the back-propagation step\n",
    "def back_prop(K,W,b,Z,H,Yhat,X,Y,alpha):\n",
    "    bDel = Y - Yhat # Length ly\n",
    "    bDel = np.squeeze(bDel)\n",
    "    WDel = np.tensordot(bDel, H, axes=0) # Shape (ly, lx[0]-lk[0]+1, lx[1]-lk[1]+1)\n",
    "    HDel = np.tensordot(bDel, W, axes=1) # Shape (lx[0]-lk[0]+1, lx[1]-lk[1]+1)\n",
    "    ZDel = np.multiply(HDel,(lambda x:(x>0))(Z)) # Shape (lx[0]-lk[0]+1, lx[1]-lk[1]+1)\n",
    "    KDel = Convolution(X,ZDel) # Shape: (lk[0], lk[1])\n",
    "    #KDel = np.zeros(KDel.shape)\n",
    "    #WDel = np.zeros(WDel.shape)\n",
    "    #bDel = np.zeros(bDel.shape)\n",
    "    \n",
    "    bn = b + alpha * bDel # Length ly\n",
    "    Wn = W + alpha * WDel # Shape (ly, lx[0]-lk[0]+1, lx[1]-lk[1]+1)\n",
    "    Kn = K + alpha * KDel # Shape (1k[0], lk[1])\n",
    "    \n",
    "    return Kn,Wn,bn"
   ]
  },
  {
   "cell_type": "code",
   "execution_count": 16,
   "metadata": {
    "collapsed": true
   },
   "outputs": [],
   "source": [
    "# Build the complete Neural Network\n",
    "def TwoLayer_CNN_train(X, Y, ChannelSize = (3,3), NumChannel = 1, OrigAlpha = 0.01, num_epochs = 10):    \n",
    "    # Recode Y as One-Hot\n",
    "    Y_oh = np.array(pd.get_dummies(np.squeeze(Y)))\n",
    "    \n",
    "    # Indicate number of units per layer\n",
    "    N = X.shape[0] # Number of samples\n",
    "    xsize = X.shape[1:] # Size of every sample\n",
    "    ksize = ChannelSize # Size of the channel\n",
    "    ysize = Y_oh.shape[1] # Number of classes\n",
    "    \n",
    "    # Initialized the parameters\n",
    "    K,W,b = param_init(xsize,ksize,ysize)\n",
    "    \n",
    "    # Run 20 train iterations, record the error every time\n",
    "    for epoch in range(num_epochs):\n",
    "        if epoch <= 5:\n",
    "            alpha = OrigAlpha\n",
    "        elif epoch <= 10: \n",
    "            alpha = OrigAlpha * 1e-1\n",
    "        elif epoch <= 15:\n",
    "            alpha = OrigAlpha * 1e-2\n",
    "        else:\n",
    "            alpha = OrigAlpha * 1e-3\n",
    "        total_cor = 0\n",
    "        trial_time = int(N)\n",
    "        for n in range(trial_time):\n",
    "            r = np.random.randint(N)\n",
    "            x_samp = X[r]\n",
    "            y_samp = Y_oh[[r]]\n",
    "            # Forward\n",
    "            Z, H, Yhat = forward_prop(x_samp,K,W,b)\n",
    "            pred = np.argmax(Yhat)\n",
    "            if pred==Y[r]:\n",
    "                total_cor += 1\n",
    "            # Backward\n",
    "            K,W,b = back_prop(K,W,b,Z,H,Yhat,x_samp,y_samp,alpha)\n",
    "        print(\"Training Accuracy: \",total_cor / trial_time)\n",
    "    return K,W,b"
   ]
  },
  {
   "cell_type": "code",
   "execution_count": 17,
   "metadata": {},
   "outputs": [
    {
     "name": "stdout",
     "output_type": "stream",
     "text": [
      "Training Accuracy:  0.8814666666666666\n",
      "Training Accuracy:  0.9169333333333334\n",
      "Training Accuracy:  0.9166666666666666\n",
      "Training Accuracy:  0.9182333333333333\n",
      "Training Accuracy:  0.9209666666666667\n",
      "Training Accuracy:  0.9199166666666667\n",
      "Training Accuracy:  0.9344833333333333\n",
      "Training Accuracy:  0.9355333333333333\n",
      "Training Accuracy:  0.9363166666666667\n",
      "Training Accuracy:  0.9362833333333334\n"
     ]
    }
   ],
   "source": [
    "K,W,b = TwoLayer_CNN_train(x_trainnew, y_train, OrigAlpha=0.01, num_epochs=10)"
   ]
  },
  {
   "cell_type": "code",
   "execution_count": 13,
   "metadata": {
    "collapsed": true
   },
   "outputs": [],
   "source": [
    "# For a given neural network, predict an input X\n",
    "def predict_NN(X,K,W,b):\n",
    "    X_predprob = forward_prop(X,K,W,b)[2]\n",
    "    X_pred = X_predprob.argmax(axis=1) # Take the biggest probability as its choice\n",
    "    return X_pred"
   ]
  },
  {
   "cell_type": "code",
   "execution_count": 14,
   "metadata": {},
   "outputs": [
    {
     "data": {
      "text/plain": [
       "0.9258"
      ]
     },
     "execution_count": 14,
     "metadata": {},
     "output_type": "execute_result"
    }
   ],
   "source": [
    "# Predict on train set\n",
    "N = x_trainnew.shape[0]\n",
    "total_cor = 0\n",
    "for n in range(N):\n",
    "    temp_pred = predict_NN(x_trainnew[n],K,W,b)\n",
    "    if temp_pred == y_train[n]:\n",
    "        total_cor += 1\n",
    "total_cor / N"
   ]
  },
  {
   "cell_type": "code",
   "execution_count": 15,
   "metadata": {},
   "outputs": [
    {
     "data": {
      "text/plain": [
       "0.9235"
      ]
     },
     "execution_count": 15,
     "metadata": {},
     "output_type": "execute_result"
    }
   ],
   "source": [
    "# Predict on test set\n",
    "N = x_testnew.shape[0]\n",
    "total_cor = 0\n",
    "for n in range(N):\n",
    "    temp_pred = predict_NN(x_testnew[n],K,W,b)\n",
    "    if temp_pred == y_test[n]:\n",
    "        total_cor += 1\n",
    "total_cor / N"
   ]
  }
 ],
 "metadata": {
  "kernelspec": {
   "display_name": "Python 3",
   "language": "python",
   "name": "python3"
  },
  "language_info": {
   "codemirror_mode": {
    "name": "ipython",
    "version": 3
   },
   "file_extension": ".py",
   "mimetype": "text/x-python",
   "name": "python",
   "nbconvert_exporter": "python",
   "pygments_lexer": "ipython3",
   "version": "3.6.3"
  }
 },
 "nbformat": 4,
 "nbformat_minor": 2
}
