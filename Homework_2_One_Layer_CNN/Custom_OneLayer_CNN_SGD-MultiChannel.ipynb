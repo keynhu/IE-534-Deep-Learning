{
 "cells": [
  {
   "cell_type": "code",
   "execution_count": 1,
   "metadata": {},
   "outputs": [
    {
     "name": "stderr",
     "output_type": "stream",
     "text": [
      "C:\\Users\\LEN\\Anaconda3\\lib\\site-packages\\h5py\\__init__.py:34: FutureWarning: Conversion of the second argument of issubdtype from `float` to `np.floating` is deprecated. In future, it will be treated as `np.float64 == np.dtype(float).type`.\n",
      "  from ._conv import register_converters as _register_converters\n"
     ]
    }
   ],
   "source": [
    "# Import Module\n",
    "import numpy as np\n",
    "import pandas as pd\n",
    "import matplotlib.pyplot as plt\n",
    "import h5py\n",
    "import datetime"
   ]
  },
  {
   "cell_type": "code",
   "execution_count": 2,
   "metadata": {
    "collapsed": true
   },
   "outputs": [],
   "source": [
    "# Read data, which has a size of N * 784 and N * 1\n",
    "MNIST = h5py.File(\"..\\MNISTdata.hdf5\",'r')\n",
    "x_train = np.float32(MNIST['x_train'][:])\n",
    "x_test = np.float32(MNIST['x_test'][:])\n",
    "y_train = np.int32(MNIST['y_train'][:,0])\n",
    "y_test = np.int32(MNIST['y_test'][:,0])"
   ]
  },
  {
   "cell_type": "code",
   "execution_count": 3,
   "metadata": {
    "collapsed": true
   },
   "outputs": [],
   "source": [
    "# Reshape samples as 28 * 28 images\n",
    "x_trainnew = np.reshape(x_train, (len(x_train),28,28))\n",
    "x_testnew = np.reshape(x_test, (len(x_test),28,28))"
   ]
  },
  {
   "cell_type": "code",
   "execution_count": 4,
   "metadata": {
    "collapsed": true
   },
   "outputs": [],
   "source": [
    "# Build activate functions\n",
    "relu = lambda x: x*(x>0)\n",
    "\n",
    "# Input a m * n matrix, output a m * n matrix whose rows are transformed and normalized\n",
    "def softmax(X):\n",
    "    Xexp = np.exp(X)\n",
    "    return Xexp / np.sum(Xexp,axis=1,keepdims=True)"
   ]
  },
  {
   "cell_type": "code",
   "execution_count": 5,
   "metadata": {
    "collapsed": true
   },
   "outputs": [],
   "source": [
    "# Initialize the parameters\n",
    "def param_init(input_size, kernel_size, output_size):\n",
    "    lx = input_size # 2-dim\n",
    "    lk = kernel_size # 3-dim\n",
    "    lh = (lx[0]-lk[0]+1, lx[1]-lk[1]+1, lk[2]) # Hidden layer size, 3-dim\n",
    "    ly = output_size # 1-dim\n",
    "    K = np.random.randn(lk[0],lk[1],lk[2]) / max(lx)\n",
    "    W = np.random.randn(ly,lh[0],lh[1],lk[2]) / max(lx)\n",
    "    b = np.zeros(ly)\n",
    "    \n",
    "    return K,W,b"
   ]
  },
  {
   "cell_type": "code",
   "execution_count": 6,
   "metadata": {
    "collapsed": true
   },
   "outputs": [],
   "source": [
    "# Build the forward step\n",
    "# Model: Z = X * K → H = relu(Z) → U = WH + b → Yhat = softmax(U)\n",
    "def Convolution(image, kernel):\n",
    "    d1,d2 = image.shape\n",
    "    k1,k2,C = kernel.shape\n",
    "    output_a = d1 - k1 + 1\n",
    "    output_b = d2 - k2 + 1\n",
    "    conv = np.zeros((output_a,output_b,C))\n",
    "    for c in range(C):\n",
    "        for a in range(output_a):\n",
    "            for b in range(output_b):\n",
    "                conv[a,b,c] = np.sum(np.multiply(image[a:(a+k1),b:(b+k2)], kernel[:,:,c]))\n",
    "    return conv\n",
    "\n",
    "def forward_prop(X,K,W,b):\n",
    "    # Input to Hidden layer\n",
    "    Z = Convolution(X,K) # Shape: (lx[0]-lk[0]+1, lx[1]-lk[1]+1, C)\n",
    "    H = relu(Z) # Shape: (lx[0]-lk[0]+1, lx[1]-lk[1]+1, C)\n",
    "    \n",
    "    # Hidden layer to Output\n",
    "    U = np.sum(np.multiply(W,H), axis=(1,2,3)) + b\n",
    "    U.shape = (1,W.shape[0]) # Shape: (1 * ly)\n",
    "    Yhat = softmax(U) # Shape: (1 * ly)\n",
    "    \n",
    "    return Z, H, Yhat"
   ]
  },
  {
   "cell_type": "code",
   "execution_count": 7,
   "metadata": {
    "collapsed": true
   },
   "outputs": [],
   "source": [
    "# Build the back-propagation step\n",
    "def back_prop(K,W,b,Z,H,Yhat,X,Y,alpha):\n",
    "    UDel = Y - Yhat # Shape (1, ly)\n",
    "    bDel = np.squeeze(UDel) # Length ly\n",
    "    WDel = np.tensordot(bDel, H, axes=0) # Shape (ly, lx[0]-lk[0]+1, lx[1]-lk[1]+1, C)\n",
    "    HDel = np.tensordot(bDel, W, axes=1) # Shape (lx[0]-lk[0]+1, lx[1]-lk[1]+1, C)\n",
    "    ZDel = np.multiply(HDel,(lambda x:(x>0))(Z)) # Shape (lx[0]-lk[0]+1, lx[1]-lk[1]+1, C)\n",
    "    KDel = Convolution(X,ZDel) # Shape: (lk[0], lk[1])\n",
    "    \n",
    "    bn = b + alpha * bDel # Length ly\n",
    "    Wn = W + alpha * WDel # Shape (ly, lx[0]-lk[0]+1, lx[1]-lk[1]+1, C)\n",
    "    Kn = K + alpha * KDel # Shape (1k[0], lk[1])\n",
    "    \n",
    "    return Kn,Wn,bn"
   ]
  },
  {
   "cell_type": "code",
   "execution_count": 8,
   "metadata": {},
   "outputs": [],
   "source": [
    "# Build the complete Neural Network\n",
    "def TwoLayer_CNN_train(X, Y, ChannelSize = (3,3), NumChannel = 1, OrigAlpha = 0.01, num_epochs = 10):    \n",
    "    # Recode Y as One-Hot\n",
    "    Y_oh = np.array(pd.get_dummies(np.squeeze(Y)))\n",
    "    \n",
    "    # Indicate number of units per layer\n",
    "    N = X.shape[0] # Number of samples\n",
    "    xsize = X.shape[1:] # Size of every sample\n",
    "    ksize = (ChannelSize[0],ChannelSize[1],NumChannel) # Size of the channel\n",
    "    ysize = Y_oh.shape[1] # Number of classes\n",
    "    \n",
    "    # Initialized the parameters\n",
    "    K,W,b = param_init(xsize,ksize,ysize)\n",
    "    \n",
    "    # Run 20 train iterations, record the error every time\n",
    "    tim = datetime.datetime.now()\n",
    "    for epoch in range(num_epochs):\n",
    "        if epoch <= 5:\n",
    "            alpha = OrigAlpha\n",
    "        elif epoch <= 10: \n",
    "            alpha = OrigAlpha * 1e-1\n",
    "        elif epoch <= 15:\n",
    "            alpha = OrigAlpha * 1e-2\n",
    "        else:\n",
    "            alpha = OrigAlpha * 1e-3\n",
    "        total_cor = 0\n",
    "        trial_time = int(N)\n",
    "        for n in range(trial_time):\n",
    "            r = np.random.randint(N)\n",
    "            x_samp = X[r]\n",
    "            y_samp = Y_oh[[r]]\n",
    "            # Forward\n",
    "            Z, H, Yhat = forward_prop(x_samp,K,W,b)\n",
    "            pred = np.argmax(Yhat)\n",
    "            total_cor += (pred==Y[r])\n",
    "            # Backward\n",
    "            K,W,b = back_prop(K,W,b,Z,H,Yhat,x_samp,y_samp,alpha)\n",
    "            if n%10000==0:\n",
    "                print(\"Epoch: {}, Trial: {}\".format(epoch,n))\n",
    "                tim_b = datetime.datetime.now()\n",
    "                print(\"Cost Time: \", tim_b-tim)\n",
    "        print(\"Training Accuracy: \",total_cor / trial_time)\n",
    "    return K,W,b"
   ]
  },
  {
   "cell_type": "code",
   "execution_count": 10,
   "metadata": {},
   "outputs": [
    {
     "name": "stdout",
     "output_type": "stream",
     "text": [
      "Epoch: 0, Trial: 0\n",
      "Cost Time:  0:00:00.073800\n",
      "Epoch: 0, Trial: 10000\n",
      "Cost Time:  0:04:19.075462\n",
      "Epoch: 0, Trial: 20000\n",
      "Cost Time:  0:04:10.694176\n",
      "Epoch: 0, Trial: 30000\n",
      "Cost Time:  0:04:08.995468\n",
      "Epoch: 0, Trial: 40000\n",
      "Cost Time:  0:04:04.848908\n",
      "Epoch: 0, Trial: 50000\n",
      "Cost Time:  0:04:18.398255\n",
      "Training Accuracy:  0.9222333333333333\n",
      "Epoch: 1, Trial: 0\n",
      "Cost Time:  0:04:31.576354\n",
      "Epoch: 1, Trial: 10000\n",
      "Cost Time:  0:04:13.101966\n",
      "Epoch: 1, Trial: 20000\n",
      "Cost Time:  0:05:03.165314\n",
      "Epoch: 1, Trial: 30000\n",
      "Cost Time:  0:05:05.647999\n",
      "Epoch: 1, Trial: 40000\n",
      "Cost Time:  0:04:55.290188\n",
      "Epoch: 1, Trial: 50000\n",
      "Cost Time:  0:04:43.278963\n",
      "Training Accuracy:  0.9540333333333333\n",
      "Epoch: 2, Trial: 0\n",
      "Cost Time:  0:03:50.139090\n",
      "Epoch: 2, Trial: 10000\n",
      "Cost Time:  0:03:47.571942\n",
      "Epoch: 2, Trial: 20000\n",
      "Cost Time:  0:03:58.935516\n",
      "Epoch: 2, Trial: 30000\n",
      "Cost Time:  0:03:52.517104\n",
      "Epoch: 2, Trial: 40000\n",
      "Cost Time:  0:03:54.477148\n",
      "Epoch: 2, Trial: 50000\n",
      "Cost Time:  0:03:53.506373\n",
      "Training Accuracy:  0.9620833333333333\n",
      "Epoch: 3, Trial: 0\n",
      "Cost Time:  0:03:54.208947\n",
      "Epoch: 3, Trial: 10000\n",
      "Cost Time:  0:03:53.970233\n",
      "Epoch: 3, Trial: 20000\n",
      "Cost Time:  0:03:57.280561\n",
      "Epoch: 3, Trial: 30000\n",
      "Cost Time:  0:04:14.251646\n",
      "Epoch: 3, Trial: 40000\n",
      "Cost Time:  0:04:00.833780\n",
      "Epoch: 3, Trial: 50000\n",
      "Cost Time:  0:03:53.138854\n",
      "Training Accuracy:  0.9694\n",
      "Epoch: 4, Trial: 0\n",
      "Cost Time:  0:03:53.792450\n",
      "Epoch: 4, Trial: 10000\n",
      "Cost Time:  0:04:01.608688\n",
      "Epoch: 4, Trial: 20000\n",
      "Cost Time:  0:03:55.800692\n",
      "Epoch: 4, Trial: 30000\n",
      "Cost Time:  0:03:53.238911\n",
      "Epoch: 4, Trial: 40000\n",
      "Cost Time:  0:03:51.530305\n",
      "Epoch: 4, Trial: 50000\n",
      "Cost Time:  0:03:55.888780\n",
      "Training Accuracy:  0.9716333333333333\n",
      "Epoch: 5, Trial: 0\n",
      "Cost Time:  0:03:53.852777\n",
      "Epoch: 5, Trial: 10000\n",
      "Cost Time:  0:03:58.206255\n",
      "Epoch: 5, Trial: 20000\n",
      "Cost Time:  0:03:54.375414\n",
      "Epoch: 5, Trial: 30000\n",
      "Cost Time:  0:03:55.122918\n",
      "Epoch: 5, Trial: 40000\n",
      "Cost Time:  0:14:10.922904\n",
      "Epoch: 5, Trial: 50000\n",
      "Cost Time:  0:04:07.506897\n",
      "Training Accuracy:  0.9753666666666667\n",
      "Epoch: 6, Trial: 0\n",
      "Cost Time:  0:03:54.260691\n",
      "Epoch: 6, Trial: 10000\n",
      "Cost Time:  0:03:53.413218\n",
      "Epoch: 6, Trial: 20000\n",
      "Cost Time:  0:03:52.578018\n",
      "Epoch: 6, Trial: 30000\n",
      "Cost Time:  0:03:52.997449\n",
      "Epoch: 6, Trial: 40000\n",
      "Cost Time:  0:03:52.072430\n",
      "Epoch: 6, Trial: 50000\n",
      "Cost Time:  0:03:58.807574\n",
      "Training Accuracy:  0.9838333333333333\n",
      "Epoch: 7, Trial: 0\n",
      "Cost Time:  0:04:06.706587\n",
      "Epoch: 7, Trial: 10000\n",
      "Cost Time:  0:04:07.268526\n",
      "Epoch: 7, Trial: 20000\n",
      "Cost Time:  0:04:29.100075\n",
      "Epoch: 7, Trial: 30000\n",
      "Cost Time:  0:04:02.388130\n",
      "Epoch: 7, Trial: 40000\n",
      "Cost Time:  0:03:56.970267\n",
      "Epoch: 7, Trial: 50000\n",
      "Cost Time:  0:03:53.683283\n",
      "Training Accuracy:  0.9868166666666667\n",
      "Epoch: 8, Trial: 0\n",
      "Cost Time:  0:03:57.255681\n",
      "Epoch: 8, Trial: 10000\n",
      "Cost Time:  0:03:54.937397\n",
      "Epoch: 8, Trial: 20000\n",
      "Cost Time:  0:04:01.494225\n",
      "Epoch: 8, Trial: 30000\n",
      "Cost Time:  0:03:57.516594\n",
      "Epoch: 8, Trial: 40000\n",
      "Cost Time:  0:03:59.092795\n",
      "Epoch: 8, Trial: 50000\n",
      "Cost Time:  0:04:03.723719\n",
      "Training Accuracy:  0.9881166666666666\n",
      "Epoch: 9, Trial: 0\n",
      "Cost Time:  0:04:01.098387\n",
      "Epoch: 9, Trial: 10000\n",
      "Cost Time:  0:04:05.255266\n",
      "Epoch: 9, Trial: 20000\n",
      "Cost Time:  0:04:00.446798\n",
      "Epoch: 9, Trial: 30000\n",
      "Cost Time:  0:03:59.552856\n",
      "Epoch: 9, Trial: 40000\n",
      "Cost Time:  0:03:58.695392\n",
      "Epoch: 9, Trial: 50000\n",
      "Cost Time:  0:04:21.795092\n",
      "Training Accuracy:  0.9883166666666666\n"
     ]
    }
   ],
   "source": [
    "np.random.seed(123)\n",
    "K,W,b = TwoLayer_CNN_train(x_trainnew, y_train, NumChannel=5, OrigAlpha=0.01, num_epochs=10)"
   ]
  },
  {
   "cell_type": "code",
   "execution_count": 12,
   "metadata": {
    "collapsed": true
   },
   "outputs": [],
   "source": [
    "# For a given neural network, predict an input X\n",
    "def predict_NN(X,K,W,b):\n",
    "    X_predprob = forward_prop(X,K,W,b)[2]\n",
    "    X_pred = X_predprob.argmax(axis=1) # Take the biggest probability as its choice\n",
    "    return X_pred"
   ]
  },
  {
   "cell_type": "code",
   "execution_count": 13,
   "metadata": {},
   "outputs": [
    {
     "data": {
      "text/plain": [
       "0.9888333333333333"
      ]
     },
     "execution_count": 13,
     "metadata": {},
     "output_type": "execute_result"
    }
   ],
   "source": [
    "# Predict on train set\n",
    "N = x_trainnew.shape[0]\n",
    "total_cor = 0\n",
    "for n in range(N):\n",
    "    temp_pred = predict_NN(x_trainnew[n],K,W,b)\n",
    "    if temp_pred == y_train[n]:\n",
    "        total_cor += 1\n",
    "total_cor / N"
   ]
  },
  {
   "cell_type": "code",
   "execution_count": 14,
   "metadata": {},
   "outputs": [
    {
     "data": {
      "text/plain": [
       "0.9734"
      ]
     },
     "execution_count": 14,
     "metadata": {},
     "output_type": "execute_result"
    }
   ],
   "source": [
    "# Predict on test set\n",
    "N = x_testnew.shape[0]\n",
    "total_cor = 0\n",
    "for n in range(N):\n",
    "    temp_pred = predict_NN(x_testnew[n],K,W,b)\n",
    "    if temp_pred == y_test[n]:\n",
    "        total_cor += 1\n",
    "total_cor / N"
   ]
  }
 ],
 "metadata": {
  "kernelspec": {
   "display_name": "Python 3",
   "language": "python",
   "name": "python3"
  },
  "language_info": {
   "codemirror_mode": {
    "name": "ipython",
    "version": 3
   },
   "file_extension": ".py",
   "mimetype": "text/x-python",
   "name": "python",
   "nbconvert_exporter": "python",
   "pygments_lexer": "ipython3",
   "version": "3.6.3"
  }
 },
 "nbformat": 4,
 "nbformat_minor": 2
}
