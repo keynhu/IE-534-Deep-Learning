{
 "cells": [
  {
   "cell_type": "code",
   "execution_count": 1,
   "metadata": {
    "collapsed": true
   },
   "outputs": [],
   "source": [
    "import numpy as np\n",
    "import pandas as pd\n",
    "import torch"
   ]
  },
  {
   "cell_type": "code",
   "execution_count": 2,
   "metadata": {
    "collapsed": true
   },
   "outputs": [],
   "source": [
    "cfmat1 = np.load(\"Part 1 Output/single_frame_confusion_matrix.npy\")\n",
    "probability1 = np.load(\"Part 1 Output/single_frame_prob_distribution.npy\")\n",
    "prediction1 = pd.read_csv(\"Part 1 Output/SingleFrame_predictions.csv\")\n",
    "test1 = pd.read_csv(\"Part 1 Output/SingleFrame_test.csv\")\n",
    "checkpoint1 = torch.load(\"Part 1 Output/Singleframe_Video_AR.checkpoint.pth.tar\")"
   ]
  },
  {
   "cell_type": "code",
   "execution_count": 3,
   "metadata": {
    "collapsed": true
   },
   "outputs": [],
   "source": [
    "cfmat2 = np.load(\"Part 2 Output/sequence_frames_Subseq_confusion_matrix.npy\")\n",
    "probability2 = np.load(\"Part 2 Output/sequence_frames_prob_distribution.npy\")\n",
    "prediction2 = pd.read_csv(\"Part 2 Output/SequenceFrames_Subseq_predictions.csv\")\n",
    "test2 = pd.read_csv(\"Part 2 Output/SequenceFrames_Subseq_test.csv\")\n",
    "checkpoint2 = torch.load(\"Part 2 Output/Sequenceframes_Video_AR.checkpoint.pth.tar\")"
   ]
  },
  {
   "cell_type": "code",
   "execution_count": 13,
   "metadata": {},
   "outputs": [
    {
     "data": {
      "text/plain": [
       "Index(['Unnamed: 0', 'Labels', 'Predictions'], dtype='object')"
      ]
     },
     "execution_count": 13,
     "metadata": {},
     "output_type": "execute_result"
    }
   ],
   "source": [
    "prediction1.columns"
   ]
  },
  {
   "cell_type": "code",
   "execution_count": 30,
   "metadata": {},
   "outputs": [
    {
     "data": {
      "text/plain": [
       "(0.8220988633359767, 0.9603489294210944, 0.9785884218873909)"
      ]
     },
     "execution_count": 30,
     "metadata": {},
     "output_type": "execute_result"
    }
   ],
   "source": [
    "weight = 0.1\n",
    "probability3 = weight*probability1 + (1-weight)*probability2\n",
    "prediction3 = prediction2\n",
    "pred_3 = np.argsort(-probability3, axis=1)\n",
    "acctop1_3 = 0\n",
    "acctop5_3 = 0\n",
    "acctop10_3 = 0\n",
    "for j in range(probability3.shape[0]):\n",
    "    label = prediction3.Labels[j]\n",
    "    prediction3.Predictions[j] = pred_3[j, 0]\n",
    "    if label == pred_3[j, 0]:\n",
    "        acctop1_3 += 1\n",
    "    if label in pred_3[j, :5]:\n",
    "        acctop5_3 += 1\n",
    "    if label in pred_3[j, :10]:\n",
    "        acctop10_3 += 1\n",
    "acctop1_3/probability3.shape[0], acctop5_3/probability3.shape[0], acctop10_3/probability3.shape[0]"
   ]
  },
  {
   "cell_type": "code",
   "execution_count": 48,
   "metadata": {},
   "outputs": [],
   "source": [
    "cfmat3 = np.zeros((101,101), dtype=np.float32)\n",
    "prediction3_mat = np.array(prediction3)\n",
    "for j in range(len(prediction3_mat)):\n",
    "    cfmat3[int(prediction3_mat[j][1]), int(prediction3_mat[j][2])] += 1"
   ]
  },
  {
   "cell_type": "code",
   "execution_count": 53,
   "metadata": {},
   "outputs": [],
   "source": [
    "for j in range(len(cfmat3)):\n",
    "    cfmat3[j] = cfmat3[j] / sum(cfmat3[j])"
   ]
  },
  {
   "cell_type": "code",
   "execution_count": 55,
   "metadata": {
    "collapsed": true
   },
   "outputs": [],
   "source": [
    "acc_classes_3 = np.diag(cfmat3)\n",
    "acc_classes_ind_3 = np.argsort(acc_classes_3)\n",
    "#best_perf10_1, worst_perf10_1 = acc_classes_ind_1[-10:], acc_classes_ind_1[:10]\n",
    "best_perf10_3, worst_perf10_3 = np.where(acc_classes_3==1)[0], acc_classes_ind_3[:10]"
   ]
  },
  {
   "cell_type": "code",
   "execution_count": 56,
   "metadata": {},
   "outputs": [
    {
     "data": {
      "text/plain": [
       "(['BabyCrawling',\n",
       "  'Billiards',\n",
       "  'BoxingSpeedBag',\n",
       "  'Fencing',\n",
       "  'FloorGymnastics',\n",
       "  'HorseRiding',\n",
       "  'JumpingJack',\n",
       "  'Knitting',\n",
       "  'PlayingDhol',\n",
       "  'PlayingGuitar',\n",
       "  'PlayingPiano',\n",
       "  'PlayingTabla',\n",
       "  'PoleVault',\n",
       "  'RockClimbingIndoor',\n",
       "  'Skijet',\n",
       "  'SoccerPenalty',\n",
       "  'StillRings',\n",
       "  'VolleyballSpiking'],\n",
       " ['Nunchucks',\n",
       "  'YoYo',\n",
       "  'Lunges',\n",
       "  'JavelinThrow',\n",
       "  'HandstandWalking',\n",
       "  'Shotput',\n",
       "  'MoppingFloor',\n",
       "  'CricketBowling',\n",
       "  'PizzaTossing',\n",
       "  'SoccerJuggling'])"
      ]
     },
     "execution_count": 56,
     "metadata": {},
     "output_type": "execute_result"
    }
   ],
   "source": [
    "classInd = pd.read_csv(\"classInd.txt\", sep=\" \", header=None)\n",
    "classInd.columns = [\"Index\",\"ClassNames\"]\n",
    "(best_perf10_classes_3, worst_perf10_classes_3) = (list(classInd.ClassNames[best_perf10_3]), list(classInd.ClassNames[worst_perf10_3]))\n",
    "(best_perf10_classes_3, worst_perf10_classes_3)"
   ]
  },
  {
   "cell_type": "code",
   "execution_count": 57,
   "metadata": {},
   "outputs": [
    {
     "data": {
      "text/plain": [
       "18"
      ]
     },
     "execution_count": 57,
     "metadata": {},
     "output_type": "execute_result"
    }
   ],
   "source": [
    "len(best_perf10_classes_3)"
   ]
  },
  {
   "cell_type": "code",
   "execution_count": 58,
   "metadata": {},
   "outputs": [
    {
     "data": {
      "text/plain": [
       "[['Haircut', 'BlowDryHair'],\n",
       " ['JavelinThrow', 'LongJump'],\n",
       " ['Rowing', 'Skijet'],\n",
       " ['YoYo', 'JugglingBalls'],\n",
       " ['FrontCrawl', 'BreastStroke'],\n",
       " ['MoppingFloor', 'HandstandWalking'],\n",
       " ['HighJump', 'LongJump'],\n",
       " ['CricketShot', 'CricketBowling'],\n",
       " ['BoxingPunchingBag', 'BoxingSpeedBag'],\n",
       " ['ApplyLipstick', 'BrushingTeeth']]"
      ]
     },
     "execution_count": 58,
     "metadata": {},
     "output_type": "execute_result"
    }
   ],
   "source": [
    "# Select the 10 pairs of most confused classes\n",
    "allcfmat3 = cfmat3.reshape(-1)\n",
    "diagcfmat3_ind = range(0, len(allcfmat3), 102)\n",
    "allcfmat3_sortind = np.argsort(-allcfmat3)\n",
    "offcfmat3_sortind = [x for x in allcfmat3_sortind if x not in diagcfmat3_ind]\n",
    "\n",
    "cfmat3_confuse10 = np.array(offcfmat3_sortind[:10])\n",
    "cfmat3_confuse10_label = cfmat3_confuse10 // 101\n",
    "cfmat3_confuse10_pred = cfmat3_confuse10 % 101\n",
    "\n",
    "cfmat3_confuse10_label, cfmat3_confuse10_pred\n",
    "(cfmat3_confuse10_class_label, cfmat3_confuse10_class_pred) = (list(classInd.ClassNames[cfmat3_confuse10_label]), list(classInd.ClassNames[cfmat3_confuse10_pred]))\n",
    "[[cfmat3_confuse10_class_label[i], cfmat3_confuse10_class_pred[i]] for i in range(len(cfmat3_confuse10_label))]"
   ]
  },
  {
   "cell_type": "code",
   "execution_count": 19,
   "metadata": {},
   "outputs": [
    {
     "data": {
      "text/plain": [
       "array([ 91,  96,  48,  88,  97,  25,  41,   7,  93,  80,  83,  16,  10,\n",
       "        82,  81,   9,  44,  55,  67,  38,  32,  40,   8,  87,  18,  72,\n",
       "        27,  74,  76,  30,  75,  23,  42,  79,  70,  66,  31,  51,  52,\n",
       "        22,   2,  28, 100,   5,  90,   6,  84,  43,  17,  39,  47,  29,\n",
       "        35,  56,  92,  20,  21,  46,  54,  95,  45,   4,  78,  36,  50,\n",
       "         1,  60,  73,  57,  69,  12,  89,  61,  68,   3,  58,  99,  85,\n",
       "        98,  77,  26,  71,  62,  15,  86,  11,  14,  19,  13,  65,  59,\n",
       "        63,  64,   0,  37,  49,  33,  53,  34,  24,  94], dtype=int64)"
      ]
     },
     "execution_count": 19,
     "metadata": {},
     "output_type": "execute_result"
    }
   ],
   "source": [
    "pred10_3[0,:]"
   ]
  },
  {
   "cell_type": "code",
   "execution_count": 4,
   "metadata": {},
   "outputs": [
    {
     "data": {
      "text/plain": [
       "((0.7858842188739096, 0.936558287073751, 0.9669574411842452),\n",
       " (0.8300290774517579, 0.9598202484800424, 0.9669574411842452))"
      ]
     },
     "execution_count": 4,
     "metadata": {},
     "output_type": "execute_result"
    }
   ],
   "source": [
    "# Accuracies for two problems\n",
    "acctop1_1, acctop5_1, acctop10_1 = test1.ACC_1[0], test1.ACC_5[0], test1.ACC_10[0]\n",
    "acctop1_2, acctop5_2, acctop10_2 = test2.ACC_1[0], test2.ACC_5[0], test1.ACC_10[0]\n",
    "\n",
    "(acctop1_1, acctop5_1, acctop10_1), (acctop1_2, acctop5_2, acctop10_2)"
   ]
  },
  {
   "cell_type": "code",
   "execution_count": 6,
   "metadata": {},
   "outputs": [
    {
     "data": {
      "text/plain": [
       "((array([ 8, 11, 15, 18, 25, 29, 40, 41, 52, 59, 65, 67, 73, 75, 81, 82, 84,\n",
       "         86, 87, 99], dtype=int64),\n",
       "  array([ 47,  37, 100,  55,  14,  39,  31,  69,  98,  51], dtype=int64)),\n",
       " (array([1., 1., 1., 1., 1., 1., 1., 1., 1., 1., 1., 1., 1., 1., 1., 1., 1.,\n",
       "         1., 1., 1.], dtype=float32),\n",
       "  array([0.        , 0.14705883, 0.19444445, 0.25714287, 0.26666668,\n",
       "         0.2972973 , 0.35135135, 0.35714287, 0.4       , 0.4054054 ],\n",
       "        dtype=float32)),\n",
       " (array([ 3,  4,  8, 11, 15, 17, 27, 29, 40, 41, 46, 49, 60, 62, 63, 65, 67,\n",
       "         73, 81, 84, 85, 96, 98], dtype=int64),\n",
       "  array([ 55,  51,  44, 100,  78,  37,  54,  83,  57,  39], dtype=int64)),\n",
       " (array([1., 1., 1., 1., 1., 1., 1., 1., 1., 1., 1., 1., 1., 1., 1., 1., 1.,\n",
       "         1., 1., 1., 1., 1., 1.], dtype=float32),\n",
       "  array([0.25714287, 0.27027026, 0.32258064, 0.33333334, 0.41304347,\n",
       "         0.44117647, 0.44117647, 0.46153846, 0.4848485 , 0.4864865 ],\n",
       "        dtype=float32)))"
      ]
     },
     "execution_count": 6,
     "metadata": {},
     "output_type": "execute_result"
    }
   ],
   "source": [
    "# Select 10 best and worst classes\n",
    "acc_classes_1 = np.diag(cfmat1)\n",
    "acc_classes_ind_1 = np.argsort(acc_classes_1)\n",
    "#best_perf10_1, worst_perf10_1 = acc_classes_ind_1[-10:], acc_classes_ind_1[:10]\n",
    "best_perf10_1, worst_perf10_1 = np.where(acc_classes_1==1)[0], acc_classes_ind_1[:10]\n",
    "acc_classes_2 = np.diag(cfmat2)\n",
    "acc_classes_ind_2 = np.argsort(acc_classes_2)\n",
    "#best_perf10_2, worst_perf10_2 = acc_classes_ind_2[-10:], acc_classes_ind_2[:10]\n",
    "best_perf10_2, worst_perf10_2 = np.where(acc_classes_2==1)[0], acc_classes_ind_2[:10]\n",
    "\n",
    "(best_perf10_1, worst_perf10_1), (acc_classes_1[best_perf10_1], acc_classes_1[worst_perf10_1]), (best_perf10_2, worst_perf10_2), (acc_classes_2[best_perf10_2], acc_classes_2[worst_perf10_2])"
   ]
  },
  {
   "cell_type": "code",
   "execution_count": 7,
   "metadata": {
    "scrolled": true
   },
   "outputs": [
    {
     "data": {
      "text/plain": [
       "(['BasketballDunk',\n",
       "  'Billiards',\n",
       "  'Bowling',\n",
       "  'BreastStroke',\n",
       "  'Diving',\n",
       "  'FloorGymnastics',\n",
       "  'HorseRace',\n",
       "  'HorseRiding',\n",
       "  'MilitaryParade',\n",
       "  'PlayingDaf',\n",
       "  'PlayingTabla',\n",
       "  'PoleVault',\n",
       "  'RockClimbingIndoor',\n",
       "  'Rowing',\n",
       "  'Skijet',\n",
       "  'SkyDiving',\n",
       "  'SoccerPenalty',\n",
       "  'SumoWrestling',\n",
       "  'Surfing',\n",
       "  'WritingOnBoard'],\n",
       " ['JumpRope',\n",
       "  'HandstandWalking',\n",
       "  'YoYo',\n",
       "  'Nunchucks',\n",
       "  'BodyWeightSquats',\n",
       "  'HighJump',\n",
       "  'FrontCrawl',\n",
       "  'PullUps',\n",
       "  'WallPushups',\n",
       "  'Lunges'])"
      ]
     },
     "execution_count": 7,
     "metadata": {},
     "output_type": "execute_result"
    }
   ],
   "source": [
    "# Transform into classes format\n",
    "classInd = pd.read_csv(\"classInd.txt\", sep=\" \", header=None)\n",
    "classInd.columns = [\"Index\",\"ClassNames\"]\n",
    "(best_perf10_classes_1, worst_perf10_classes_1) = (list(classInd.ClassNames[best_perf10_1]), list(classInd.ClassNames[worst_perf10_1]))\n",
    "(best_perf10_classes_1, worst_perf10_classes_1)"
   ]
  },
  {
   "cell_type": "code",
   "execution_count": 8,
   "metadata": {},
   "outputs": [
    {
     "data": {
      "text/plain": [
       "(['BabyCrawling',\n",
       "  'BalanceBeam',\n",
       "  'BasketballDunk',\n",
       "  'Billiards',\n",
       "  'Bowling',\n",
       "  'BoxingSpeedBag',\n",
       "  'Fencing',\n",
       "  'FloorGymnastics',\n",
       "  'HorseRace',\n",
       "  'HorseRiding',\n",
       "  'JumpingJack',\n",
       "  'Knitting',\n",
       "  'PlayingDhol',\n",
       "  'PlayingGuitar',\n",
       "  'PlayingPiano',\n",
       "  'PlayingTabla',\n",
       "  'PoleVault',\n",
       "  'RockClimbingIndoor',\n",
       "  'Skijet',\n",
       "  'SoccerPenalty',\n",
       "  'StillRings',\n",
       "  'VolleyballSpiking',\n",
       "  'WallPushups'],\n",
       " ['Nunchucks',\n",
       "  'Lunges',\n",
       "  'JavelinThrow',\n",
       "  'YoYo',\n",
       "  'Shotput',\n",
       "  'HandstandWalking',\n",
       "  'MoppingFloor',\n",
       "  'SoccerJuggling',\n",
       "  'PizzaTossing',\n",
       "  'HighJump'])"
      ]
     },
     "execution_count": 8,
     "metadata": {},
     "output_type": "execute_result"
    }
   ],
   "source": [
    "classInd = pd.read_csv(\"classInd.txt\", sep=\" \", header=None)\n",
    "classInd.columns = [\"Index\",\"ClassNames\"]\n",
    "(best_perf10_classes_2, worst_perf10_classes_2) = (list(classInd.ClassNames[best_perf10_2]), list(classInd.ClassNames[worst_perf10_2]))\n",
    "(best_perf10_classes_2, worst_perf10_classes_2)"
   ]
  },
  {
   "cell_type": "code",
   "execution_count": 10,
   "metadata": {},
   "outputs": [
    {
     "data": {
      "text/plain": [
       "(20, 23)"
      ]
     },
     "execution_count": 10,
     "metadata": {},
     "output_type": "execute_result"
    }
   ],
   "source": [
    "len(best_perf10_classes_1), len(best_perf10_classes_2)"
   ]
  },
  {
   "cell_type": "code",
   "execution_count": 12,
   "metadata": {},
   "outputs": [
    {
     "data": {
      "text/plain": [
       "{'BabyCrawling',\n",
       " 'BalanceBeam',\n",
       " 'BoxingSpeedBag',\n",
       " 'Fencing',\n",
       " 'JumpingJack',\n",
       " 'Knitting',\n",
       " 'PlayingDhol',\n",
       " 'PlayingGuitar',\n",
       " 'PlayingPiano',\n",
       " 'StillRings',\n",
       " 'VolleyballSpiking',\n",
       " 'WallPushups'}"
      ]
     },
     "execution_count": 12,
     "metadata": {},
     "output_type": "execute_result"
    }
   ],
   "source": [
    "set(best_perf10_classes_2)-(set(best_perf10_classes_1).intersection(set(best_perf10_classes_2)))"
   ]
  },
  {
   "cell_type": "code",
   "execution_count": 23,
   "metadata": {},
   "outputs": [
    {
     "data": {
      "text/plain": [
       "(array([31, 33, 68, 39, 19, 23, 37, 47, 35, 14], dtype=int64),\n",
       " array([18, 12, 56, 44, 77, 22, 71, 42, 92, 98], dtype=int64))"
      ]
     },
     "execution_count": 23,
     "metadata": {},
     "output_type": "execute_result"
    }
   ],
   "source": [
    "# Select the 10 pairs of most confused classes\n",
    "allcfmat1 = cfmat1.reshape(-1)\n",
    "diagcfmat1_ind = range(0, len(allcfmat1), 102)\n",
    "allcfmat1_sortind = np.argsort(-allcfmat1)\n",
    "offcfmat1_sortind = [x for x in allcfmat1_sortind if x not in diagcfmat1_ind]\n",
    "\n",
    "cfmat1_confuse10 = np.array(offcfmat1_sortind[:10])\n",
    "cfmat1_confuse10_label = cfmat1_confuse10 // 101\n",
    "cfmat1_confuse10_pred = cfmat1_confuse10 % 101\n",
    "\n",
    "cfmat1_confuse10_label, cfmat1_confuse10_pred"
   ]
  },
  {
   "cell_type": "code",
   "execution_count": 24,
   "metadata": {},
   "outputs": [
    {
     "data": {
      "text/plain": [
       "[['FrontCrawl', 'BreastStroke'],\n",
       " ['Haircut', 'BlowDryHair'],\n",
       " ['PommelHorse', 'ParallelBars'],\n",
       " ['HighJump', 'JavelinThrow'],\n",
       " ['BrushingTeeth', 'ShavingBeard'],\n",
       " ['CricketShot', 'CricketBowling'],\n",
       " ['HandstandWalking', 'PushUps'],\n",
       " ['JumpRope', 'HulaHoop'],\n",
       " ['HammerThrow', 'ThrowDiscus'],\n",
       " ['BodyWeightSquats', 'WallPushups']]"
      ]
     },
     "execution_count": 24,
     "metadata": {},
     "output_type": "execute_result"
    }
   ],
   "source": [
    "(cfmat1_confuse10_class_label, cfmat1_confuse10_class_pred) = (list(classInd.ClassNames[cfmat1_confuse10_label]), list(classInd.ClassNames[cfmat1_confuse10_pred]))\n",
    "[[cfmat1_confuse10_class_label[i], cfmat1_confuse10_class_pred[i]] for i in range(len(cfmat1_confuse10_label))]"
   ]
  },
  {
   "cell_type": "code",
   "execution_count": 25,
   "metadata": {},
   "outputs": [
    {
     "data": {
      "text/plain": [
       "(array([ 33,  44,  75, 100,  39,  31,  54,  16,  34,  47], dtype=int64),\n",
       " array([12, 50, 81, 45, 50, 18, 37, 17, 38, 46], dtype=int64))"
      ]
     },
     "execution_count": 25,
     "metadata": {},
     "output_type": "execute_result"
    }
   ],
   "source": [
    "allcfmat2 = cfmat2.reshape(-1)\n",
    "diagcfmat2_ind = range(0, len(allcfmat2), 102)\n",
    "allcfmat2_sortind = np.argsort(-allcfmat2) # Sort the maximum\n",
    "offcfmat2_sortind = [x for x in allcfmat2_sortind if x not in diagcfmat1_ind]\n",
    "\n",
    "cfmat2_confuse10 = np.array(offcfmat2_sortind[:10])\n",
    "cfmat2_confuse10_label = cfmat2_confuse10 // 101\n",
    "cfmat2_confuse10_pred = cfmat2_confuse10 % 101\n",
    "\n",
    "cfmat2_confuse10_label, cfmat2_confuse10_pred"
   ]
  },
  {
   "cell_type": "code",
   "execution_count": 26,
   "metadata": {},
   "outputs": [
    {
     "data": {
      "text/plain": [
       "[['Haircut', 'BlowDryHair'],\n",
       " ['JavelinThrow', 'LongJump'],\n",
       " ['Rowing', 'Skijet'],\n",
       " ['YoYo', 'JugglingBalls'],\n",
       " ['HighJump', 'LongJump'],\n",
       " ['FrontCrawl', 'BreastStroke'],\n",
       " ['MoppingFloor', 'HandstandWalking'],\n",
       " ['BoxingPunchingBag', 'BoxingSpeedBag'],\n",
       " ['Hammering', 'HeadMassage'],\n",
       " ['JumpRope', 'JumpingJack']]"
      ]
     },
     "execution_count": 26,
     "metadata": {},
     "output_type": "execute_result"
    }
   ],
   "source": [
    "(cfmat2_confuse10_class_label, cfmat2_confuse10_class_pred) = (list(classInd.ClassNames[cfmat2_confuse10_label]), list(classInd.ClassNames[cfmat2_confuse10_pred]))\n",
    "[[cfmat2_confuse10_class_label[i], cfmat2_confuse10_class_pred[i]] for i in range(len(cfmat2_confuse10_label))]"
   ]
  },
  {
   "cell_type": "code",
   "execution_count": 13,
   "metadata": {},
   "outputs": [
    {
     "data": {
      "text/plain": [
       "Index(['Unnamed: 0', 'Labels', 'Predictions'], dtype='object')"
      ]
     },
     "execution_count": 13,
     "metadata": {},
     "output_type": "execute_result"
    }
   ],
   "source": [
    "prediction1.columns"
   ]
  },
  {
   "cell_type": "code",
   "execution_count": 24,
   "metadata": {},
   "outputs": [
    {
     "data": {
      "text/html": [
       "<div>\n",
       "<style scoped>\n",
       "    .dataframe tbody tr th:only-of-type {\n",
       "        vertical-align: middle;\n",
       "    }\n",
       "\n",
       "    .dataframe tbody tr th {\n",
       "        vertical-align: top;\n",
       "    }\n",
       "\n",
       "    .dataframe thead th {\n",
       "        text-align: right;\n",
       "    }\n",
       "</style>\n",
       "<table border=\"1\" class=\"dataframe\">\n",
       "  <thead>\n",
       "    <tr style=\"text-align: right;\">\n",
       "      <th></th>\n",
       "      <th>Unnamed: 0</th>\n",
       "      <th>Labels</th>\n",
       "      <th>Predictions</th>\n",
       "    </tr>\n",
       "  </thead>\n",
       "  <tbody>\n",
       "    <tr>\n",
       "      <th>41</th>\n",
       "      <td>41</td>\n",
       "      <td>33</td>\n",
       "      <td>12</td>\n",
       "    </tr>\n",
       "    <tr>\n",
       "      <th>227</th>\n",
       "      <td>227</td>\n",
       "      <td>33</td>\n",
       "      <td>12</td>\n",
       "    </tr>\n",
       "    <tr>\n",
       "      <th>234</th>\n",
       "      <td>234</td>\n",
       "      <td>33</td>\n",
       "      <td>12</td>\n",
       "    </tr>\n",
       "    <tr>\n",
       "      <th>492</th>\n",
       "      <td>492</td>\n",
       "      <td>33</td>\n",
       "      <td>12</td>\n",
       "    </tr>\n",
       "    <tr>\n",
       "      <th>947</th>\n",
       "      <td>947</td>\n",
       "      <td>33</td>\n",
       "      <td>12</td>\n",
       "    </tr>\n",
       "    <tr>\n",
       "      <th>1174</th>\n",
       "      <td>1174</td>\n",
       "      <td>33</td>\n",
       "      <td>12</td>\n",
       "    </tr>\n",
       "    <tr>\n",
       "      <th>1278</th>\n",
       "      <td>1278</td>\n",
       "      <td>33</td>\n",
       "      <td>12</td>\n",
       "    </tr>\n",
       "    <tr>\n",
       "      <th>1405</th>\n",
       "      <td>1405</td>\n",
       "      <td>33</td>\n",
       "      <td>12</td>\n",
       "    </tr>\n",
       "    <tr>\n",
       "      <th>1574</th>\n",
       "      <td>1574</td>\n",
       "      <td>33</td>\n",
       "      <td>12</td>\n",
       "    </tr>\n",
       "    <tr>\n",
       "      <th>2776</th>\n",
       "      <td>2776</td>\n",
       "      <td>33</td>\n",
       "      <td>12</td>\n",
       "    </tr>\n",
       "    <tr>\n",
       "      <th>2833</th>\n",
       "      <td>2833</td>\n",
       "      <td>33</td>\n",
       "      <td>12</td>\n",
       "    </tr>\n",
       "    <tr>\n",
       "      <th>2922</th>\n",
       "      <td>2922</td>\n",
       "      <td>33</td>\n",
       "      <td>12</td>\n",
       "    </tr>\n",
       "    <tr>\n",
       "      <th>3067</th>\n",
       "      <td>3067</td>\n",
       "      <td>33</td>\n",
       "      <td>12</td>\n",
       "    </tr>\n",
       "    <tr>\n",
       "      <th>3099</th>\n",
       "      <td>3099</td>\n",
       "      <td>33</td>\n",
       "      <td>12</td>\n",
       "    </tr>\n",
       "    <tr>\n",
       "      <th>3490</th>\n",
       "      <td>3490</td>\n",
       "      <td>33</td>\n",
       "      <td>12</td>\n",
       "    </tr>\n",
       "    <tr>\n",
       "      <th>3648</th>\n",
       "      <td>3648</td>\n",
       "      <td>33</td>\n",
       "      <td>12</td>\n",
       "    </tr>\n",
       "    <tr>\n",
       "      <th>3761</th>\n",
       "      <td>3761</td>\n",
       "      <td>33</td>\n",
       "      <td>12</td>\n",
       "    </tr>\n",
       "  </tbody>\n",
       "</table>\n",
       "</div>"
      ],
      "text/plain": [
       "      Unnamed: 0  Labels  Predictions\n",
       "41            41      33           12\n",
       "227          227      33           12\n",
       "234          234      33           12\n",
       "492          492      33           12\n",
       "947          947      33           12\n",
       "1174        1174      33           12\n",
       "1278        1278      33           12\n",
       "1405        1405      33           12\n",
       "1574        1574      33           12\n",
       "2776        2776      33           12\n",
       "2833        2833      33           12\n",
       "2922        2922      33           12\n",
       "3067        3067      33           12\n",
       "3099        3099      33           12\n",
       "3490        3490      33           12\n",
       "3648        3648      33           12\n",
       "3761        3761      33           12"
      ]
     },
     "execution_count": 24,
     "metadata": {},
     "output_type": "execute_result"
    }
   ],
   "source": [
    "a = prediction1.Labels==33\n",
    "b = prediction1.Predictions==12\n",
    "cc = prediction1[a & b]\n",
    "cc"
   ]
  },
  {
   "cell_type": "code",
   "execution_count": 31,
   "metadata": {},
   "outputs": [
    {
     "data": {
      "text/plain": [
       "(array([[2, 3, 4, 5],\n",
       "        [1, 2, 3, 4]]), array([2, 3, 4, 5, 1, 2, 3, 4]))"
      ]
     },
     "execution_count": 31,
     "metadata": {},
     "output_type": "execute_result"
    }
   ],
   "source": [
    "a = np.array([[2,3,4,5],[1,2,3,4]])\n",
    "b = a.reshape(-1)\n",
    "a,b"
   ]
  }
 ],
 "metadata": {
  "kernelspec": {
   "display_name": "Python 3",
   "language": "python",
   "name": "python3"
  },
  "language_info": {
   "codemirror_mode": {
    "name": "ipython",
    "version": 3
   },
   "file_extension": ".py",
   "mimetype": "text/x-python",
   "name": "python",
   "nbconvert_exporter": "python",
   "pygments_lexer": "ipython3",
   "version": "3.6.3"
  }
 },
 "nbformat": 4,
 "nbformat_minor": 2
}
