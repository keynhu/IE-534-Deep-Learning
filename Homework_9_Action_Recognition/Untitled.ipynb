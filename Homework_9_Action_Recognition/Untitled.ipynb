{
 "cells": [
  {
   "cell_type": "code",
   "execution_count": 1,
   "metadata": {
    "collapsed": true
   },
   "outputs": [],
   "source": [
    "import os\n",
    "import sys\n",
    "import numpy as np\n",
    "import pandas as pd\n",
    "import time\n",
    "import datetime\n",
    "\n",
    "import torch\n",
    "import torch.nn as nn\n",
    "import torch.nn.functional as F\n",
    "import torch.optim as optim\n",
    "import torch.distributed as dist\n",
    "import torchvision\n",
    "# import torchvision.transforms as transforms\n",
    "\n",
    "from multiprocessing import Pool\n",
    "from util_AR import save_checkpoint, getUCF101, loadFrame"
   ]
  },
  {
   "cell_type": "code",
   "execution_count": 7,
   "metadata": {},
   "outputs": [],
   "source": [
    "import numpy as np\n",
    "a = np.random.randn(20,3,1,8,8)\n",
    "nPred = 15"
   ]
  },
  {
   "cell_type": "code",
   "execution_count": 24,
   "metadata": {},
   "outputs": [],
   "source": [
    "loop_i = list(range(0,15,5))\n",
    "loop_i.append(15)\n",
    "b = np.concatenate([a[(loop_i[0]+k):(loop_i[1]+k)] for k in range(0, 16)], axis=2)"
   ]
  },
  {
   "cell_type": "code",
   "execution_count": 25,
   "metadata": {},
   "outputs": [
    {
     "data": {
      "text/plain": [
       "(5, 3, 16, 8, 8)"
      ]
     },
     "execution_count": 25,
     "metadata": {},
     "output_type": "execute_result"
    }
   ],
   "source": [
    "b.shape"
   ]
  },
  {
   "cell_type": "code",
   "execution_count": 12,
   "metadata": {
    "collapsed": true
   },
   "outputs": [],
   "source": [
    "import torch\n",
    "\n",
    "a = torch.randn((5,3,32,32))\n",
    "a = a.unsqueeze(1)"
   ]
  },
  {
   "cell_type": "code",
   "execution_count": 14,
   "metadata": {},
   "outputs": [
    {
     "data": {
      "text/plain": [
       "torch.Size([2, 3, 3, 32, 32])"
      ]
     },
     "execution_count": 14,
     "metadata": {},
     "output_type": "execute_result"
    }
   ],
   "source": [
    "b = a[2:4]\n",
    "c = torch.cat([a[0:2], a[1:3], a[2:4]],dim=1)\n",
    "c.size()"
   ]
  },
  {
   "cell_type": "code",
   "execution_count": 1,
   "metadata": {},
   "outputs": [
    {
     "data": {
      "text/plain": [
       "torch.Size([2, 4])"
      ]
     },
     "execution_count": 1,
     "metadata": {},
     "output_type": "execute_result"
    }
   ],
   "source": [
    "import torch\n",
    "\n",
    "a = torch.Tensor([[2,4,5,7], [3,5,7,8]])\n",
    "a.size()"
   ]
  },
  {
   "cell_type": "code",
   "execution_count": 5,
   "metadata": {},
   "outputs": [
    {
     "data": {
      "text/plain": [
       "(tensor([[2., 4., 5., 7.],\n",
       "         [3., 5., 7., 8.]]), tensor([4.5000, 5.7500]))"
      ]
     },
     "execution_count": 5,
     "metadata": {},
     "output_type": "execute_result"
    }
   ],
   "source": [
    "b = torch.mean(a, dim=1)\n",
    "a,b"
   ]
  },
  {
   "cell_type": "code",
   "execution_count": 9,
   "metadata": {},
   "outputs": [
    {
     "data": {
      "text/plain": [
       "(array([[2., 4., 5., 7.],\n",
       "        [3., 5., 7., 8.]], dtype=float32), array([[2., 4., 5., 7.],\n",
       "        [3., 5., 7., 8.]], dtype=float32))"
      ]
     },
     "execution_count": 9,
     "metadata": {},
     "output_type": "execute_result"
    }
   ],
   "source": [
    "import numpy as np\n",
    "np.array(a), np.asarray(a)"
   ]
  },
  {
   "cell_type": "code",
   "execution_count": 6,
   "metadata": {},
   "outputs": [
    {
     "data": {
      "text/html": [
       "<div>\n",
       "<style scoped>\n",
       "    .dataframe tbody tr th:only-of-type {\n",
       "        vertical-align: middle;\n",
       "    }\n",
       "\n",
       "    .dataframe tbody tr th {\n",
       "        vertical-align: top;\n",
       "    }\n",
       "\n",
       "    .dataframe thead th {\n",
       "        text-align: right;\n",
       "    }\n",
       "</style>\n",
       "<table border=\"1\" class=\"dataframe\">\n",
       "  <thead>\n",
       "    <tr style=\"text-align: right;\">\n",
       "      <th></th>\n",
       "      <th>Test</th>\n",
       "      <th>Test2</th>\n",
       "    </tr>\n",
       "  </thead>\n",
       "  <tbody>\n",
       "    <tr>\n",
       "      <th>0</th>\n",
       "      <td>1</td>\n",
       "      <td>5</td>\n",
       "    </tr>\n",
       "    <tr>\n",
       "      <th>1</th>\n",
       "      <td>2</td>\n",
       "      <td>7</td>\n",
       "    </tr>\n",
       "    <tr>\n",
       "      <th>2</th>\n",
       "      <td>4</td>\n",
       "      <td>2</td>\n",
       "    </tr>\n",
       "    <tr>\n",
       "      <th>3</th>\n",
       "      <td>5</td>\n",
       "      <td>1</td>\n",
       "    </tr>\n",
       "    <tr>\n",
       "      <th>4</th>\n",
       "      <td>7</td>\n",
       "      <td>4</td>\n",
       "    </tr>\n",
       "  </tbody>\n",
       "</table>\n",
       "</div>"
      ],
      "text/plain": [
       "   Test  Test2\n",
       "0     1      5\n",
       "1     2      7\n",
       "2     4      2\n",
       "3     5      1\n",
       "4     7      4"
      ]
     },
     "execution_count": 6,
     "metadata": {},
     "output_type": "execute_result"
    }
   ],
   "source": [
    "import numpy as np\n",
    "import pandas as pd\n",
    "r = np.random.permutation(5)\n",
    "a = [1,2,4,5,7]\n",
    "b = np.array(a)[r]\n",
    "pd.DataFrame({\"Test\":a, \"Test2\":b})"
   ]
  },
  {
   "cell_type": "code",
   "execution_count": 11,
   "metadata": {},
   "outputs": [
    {
     "data": {
      "text/plain": [
       "[2, 4]"
      ]
     },
     "execution_count": 11,
     "metadata": {},
     "output_type": "execute_result"
    }
   ],
   "source": [
    "self = [2,3] if 1>2 else [2,4]\n",
    "self"
   ]
  },
  {
   "cell_type": "code",
   "execution_count": 2,
   "metadata": {
    "collapsed": true
   },
   "outputs": [],
   "source": [
    "nFrames = 1000\n",
    "loop_i = list(range(0, nFrames, 200)).append(nFrames)"
   ]
  },
  {
   "cell_type": "code",
   "execution_count": 3,
   "metadata": {
    "collapsed": true
   },
   "outputs": [],
   "source": [
    "# Hyperparameters\n",
    "IMAGE_SIZE = 224\n",
    "NUM_CLASSES = 101\n",
    "batch_size = 100\n",
    "lr = 1e-4\n",
    "num_of_epochs = 10\n",
    "\n",
    "# Device configuration\n",
    "device = torch.device('cuda:0' if torch.cuda.is_available() else 'cpu')"
   ]
  },
  {
   "cell_type": "code",
   "execution_count": null,
   "metadata": {
    "collapsed": true
   },
   "outputs": [],
   "source": [
    "# Load data\n",
    "data_dir = \"projects/training/bauh/AR\"\n",
    "class_list, train, test = getUCF101(data_dir)"
   ]
  },
  {
   "cell_type": "code",
   "execution_count": null,
   "metadata": {
    "collapsed": true
   },
   "outputs": [],
   "source": [
    "# Introduce pretrained ResNet-50 model\n",
    "model = torchvision.models.resnet50(pretrained=True)\n",
    "model.fc = nn.Linear(2048, NUM_CLASSES)\n",
    "\n",
    "# Freeze all parameters\n",
    "for param in model.parameters():\n",
    "    param.requires_grad_(False)\n",
    "    \n",
    "# Activate some parameters for training\n",
    "params = []\n",
    "# for param in model.conv1.parameters():\n",
    "#     param.requires_grad_(True)\n",
    "#     params.append(param)\n",
    "# for param in model.bn1.parameters():\n",
    "#     param.requires_grad_(True)\n",
    "#     params.append(param)\n",
    "# for param in model.layer1.parameters():\n",
    "#     param.requires_grad_(True)\n",
    "#     params.append(param)\n",
    "# for param in model.layer2.parameters():\n",
    "#     param.requires_grad_(True)\n",
    "#     params.append(param)\n",
    "# for param in model.layer3.parameters():\n",
    "#     param.requires_grad_(True)\n",
    "#     params.append(param)\n",
    "for param in model.layer4[2].parameters():\n",
    "    param.requires_grad_(True)\n",
    "    params.append(param)\n",
    "for param in model.fc.parameters():\n",
    "    param.requires_grad_(True)\n",
    "    params.append(param)\n",
    "\n",
    "model = model.to(device)\n",
    "optimizer = optim.Adam(model.parameters(), lr=lr)\n",
    "criterion = nn.CrossEntropyLoss()"
   ]
  },
  {
   "cell_type": "code",
   "execution_count": 7,
   "metadata": {
    "collapsed": true
   },
   "outputs": [],
   "source": [
    "# Activate multiple CPU cores\n",
    "pool_threads = Pool(8, maxtasksperchild=200)"
   ]
  },
  {
   "cell_type": "code",
   "execution_count": null,
   "metadata": {
    "collapsed": true
   },
   "outputs": [],
   "source": [
    "epoch_train_acc = []\n",
    "epoch_test_acc = []\n",
    "start_time = datetime.datetime.now()\n",
    "print(\"Start training at: \", start_time)\n",
    "\n",
    "from epoch in range(num_of_epochs):\n",
    "    ## TRAIN\n",
    "    train_acc = []\n",
    "    model.train()\n",
    "    random_indices = np.random.permutation(len(train[0])) # Random indices of batches\n",
    "    for i in range(0, len(train[0])-batch_size, batch_size):\n",
    "        augment = True\n",
    "        video_list = [(train[0][k], augment) for k in random_indices[i:i+batch_size]]\n",
    "        data = pool_threads.map(loadFrame, video_list)\n",
    "        \n",
    "        next_batch = 0\n",
    "        for video in data: # For each video in video_list (i.e. the current batch)\n",
    "            if video.size == 0: # If there is an empty video, skip the whole batch\n",
    "                next_batch = 1\n",
    "        if next_batch:\n",
    "            continue\n",
    "        \n",
    "        x = np.asarray(data, dtype=np.float32)\n",
    "        x = torch.FloatTensor(x).to(device).contiguous()\n",
    "        y = train[1][random_indices[i:i+batch_size]]\n",
    "        y = torch.from_numpy(y).to(device)\n",
    "        \n",
    "        output = model(x)\n",
    "        loss = criterion(output, y)\n",
    "        \n",
    "        optimizer.zero_grad()\n",
    "        loss.backward()\n",
    "        optimizer.step()\n",
    "        \n",
    "        prediction = output.data.max(1)[1]\n",
    "        accuracy = float(prediction.eq(y.data).sum()) / float(batch_size) * 100.0\n",
    "        train_acc.append(accuracy)\n",
    "    \n",
    "    ave_train_acc = np.mean(train_acc)\n",
    "    epoch_train_acc.append(ave_train_acc)\n",
    "    print(\"Epoch {}/{}, cumulative train accuracy: {}%\".format(epoch+1, num_of_epochs, ave_train_acc))\n",
    "    now_time = datetime.datetime.now()\n",
    "    print(\"Cost Time: \", now_time-start_time)\n",
    "    \n",
    "    ## TEST\n",
    "    model.eval()\n",
    "    test_acc = []\n",
    "    random_indices2 = np.random.permutation(len(test[0]))\n",
    "    for i in range(0, len(train[0])-batch_size, batch_size):\n",
    "        augment = False\n",
    "        video_list2 = [(test[0][k], augment) for k in random_indices2[i:i+batch_size]]\n",
    "        data2 = pool_threads.map(loadFrame, video_list2)\n",
    "        \n",
    "        next_batch = 0\n",
    "        for video in data: # For each video in video_list (i.e. the current batch)\n",
    "            if video.size == 0: # If there is an empty video, skip the whole batch\n",
    "                next_batch = 1\n",
    "        if next_batch:\n",
    "            continue\n",
    "        \n",
    "        x = np.asarray(data2, dtype=np.float32)\n",
    "        x = torch.FloatTensor(x).to(device).contiguous()\n",
    "        y = test[1][random_indices[i:i+batch_size]]\n",
    "        y = torch.from_numpy(y).to(device)\n",
    "        \n",
    "        output = model(x)\n",
    "        \n",
    "        prediction = output.data.max(1)[1]\n",
    "        accuracy = float(prediction.eq(y.data).sum()) / float(batch_size) * 100.0\n",
    "        test_acc.append(accuracy)\n",
    "    \n",
    "    ave_test_acc = np.mean(test_acc)\n",
    "    epoch_test_acc.append(ave_test_acc)\n",
    "    print(\"Epoch {}/{}, cumulative test accuracy: {}%\".format(epoch+1, num_of_epochs, ave_test_acc))\n",
    "    now_time = datetime.datetime.now()\n",
    "    print(\"Cost Time: \", now_time-start_time)\n",
    "    \n",
    "    is_best = (ave_test_acc == np.max(epoch_test_acc))\n",
    "    save_checkpoint(model, is_best, \"Singleframe_Video_AR.ckpt\")\n",
    "    dic = {\"Epoch\": epoch, \"Train_Accuracy\": epoch_train_acc, \"Test_Accuracy\": epoch_test_acc}\n",
    "    torch.save(dic, \"Singleframe_Video_AR.checkpoint.pth.tar\")\n",
    "\n",
    "pool_threads.close()\n",
    "pool_threads.terminate()"
   ]
  }
 ],
 "metadata": {
  "kernelspec": {
   "display_name": "Python 3",
   "language": "python",
   "name": "python3"
  },
  "language_info": {
   "codemirror_mode": {
    "name": "ipython",
    "version": 3
   },
   "file_extension": ".py",
   "mimetype": "text/x-python",
   "name": "python",
   "nbconvert_exporter": "python",
   "pygments_lexer": "ipython3",
   "version": "3.6.3"
  }
 },
 "nbformat": 4,
 "nbformat_minor": 2
}
